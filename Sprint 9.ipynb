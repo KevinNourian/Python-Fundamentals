{
 "cells": [
  {
   "cell_type": "markdown",
   "id": "saving-guidance",
   "metadata": {},
   "source": [
    "# <center> Sprint 9</center>\n",
    "## <center> Dictionaries</center>"
   ]
  },
  {
   "cell_type": "markdown",
   "id": "wooden-footage",
   "metadata": {},
   "source": [
    "#### A <code>dictionary</code> is a collection of key-value pairs."
   ]
  },
  {
   "cell_type": "code",
   "execution_count": null,
   "id": "large-hypothetical",
   "metadata": {},
   "outputs": [],
   "source": [
    "motorcycle = {'Make': 'Suzuki', 'Color': 'Black'}"
   ]
  },
  {
   "cell_type": "markdown",
   "id": "restricted-repair",
   "metadata": {},
   "source": [
    "#### The <code>print()</code> function will print every member of the dictionary."
   ]
  },
  {
   "cell_type": "code",
   "execution_count": null,
   "id": "wanted-asset",
   "metadata": {},
   "outputs": [],
   "source": [
    "motorcycle = {'Make': 'Suzuki', 'Color': 'Black'}\n",
    "\n",
    "print(motorcycle)"
   ]
  },
  {
   "cell_type": "markdown",
   "id": "wrong-demand",
   "metadata": {},
   "source": [
    "#### You can access the value of a key by accessing the key."
   ]
  },
  {
   "cell_type": "code",
   "execution_count": null,
   "id": "dimensional-probability",
   "metadata": {},
   "outputs": [],
   "source": [
    "motorcycle = {'Make': 'Suzuki', 'Color': 'Black'}\n",
    "\n",
    "print(motorcycle['Make'])"
   ]
  },
  {
   "cell_type": "markdown",
   "id": "focused-valley",
   "metadata": {},
   "source": [
    "#### The <code>del()</code> function will delete a member of the ditionary."
   ]
  },
  {
   "cell_type": "code",
   "execution_count": null,
   "id": "satisfactory-chosen",
   "metadata": {},
   "outputs": [],
   "source": [
    "motorcycle = {'Make': 'Suzuki', 'Color': 'Black'}\n",
    "\n",
    "del motorcycle['Color']"
   ]
  },
  {
   "cell_type": "code",
   "execution_count": null,
   "id": "athletic-secretary",
   "metadata": {
    "scrolled": true
   },
   "outputs": [],
   "source": [
    "print(motorcycle)"
   ]
  },
  {
   "cell_type": "markdown",
   "id": "grave-direction",
   "metadata": {},
   "source": [
    "#### You can change the value associated with a key."
   ]
  },
  {
   "cell_type": "code",
   "execution_count": null,
   "id": "seventh-outreach",
   "metadata": {},
   "outputs": [],
   "source": [
    "motorcycle = {'Make': 'Suzuki', 'Color': 'Black'}\n",
    "\n",
    "motorcycle['Color'] = 'White'"
   ]
  },
  {
   "cell_type": "code",
   "execution_count": null,
   "id": "geographic-lexington",
   "metadata": {},
   "outputs": [],
   "source": [
    "motorcycle = {'Make': 'Suzuki', 'Color': 'Black'}\n",
    "\n",
    "motorcycle['Color'] = 437"
   ]
  },
  {
   "cell_type": "code",
   "execution_count": null,
   "id": "filled-deadline",
   "metadata": {},
   "outputs": [],
   "source": [
    "motorcycle = {'Make': 'Suzuki', 'Color': 'Black'}\n",
    "\n",
    "motorcycle['Color'] = [437, 235, 981]"
   ]
  },
  {
   "cell_type": "code",
   "execution_count": null,
   "id": "approved-shopper",
   "metadata": {},
   "outputs": [],
   "source": [
    "print(motorcycle)"
   ]
  },
  {
   "cell_type": "code",
   "execution_count": null,
   "id": "intellectual-infection",
   "metadata": {},
   "outputs": [],
   "source": [
    "motorcycle = {'Make': 'Suzuki', 'Color': 'Black'}\n",
    "\n",
    "motorcycle['Make'] = 'Honda'"
   ]
  },
  {
   "cell_type": "code",
   "execution_count": null,
   "id": "meaningful-intelligence",
   "metadata": {
    "scrolled": true
   },
   "outputs": [],
   "source": [
    "print(motorcycle)"
   ]
  },
  {
   "cell_type": "markdown",
   "id": "visible-incentive",
   "metadata": {},
   "source": [
    "#### The <code>len()</code> function returns the number of items of a dictionary. Each key-value set is one item."
   ]
  },
  {
   "cell_type": "code",
   "execution_count": null,
   "id": "alien-linux",
   "metadata": {},
   "outputs": [],
   "source": [
    "motorcycle = {'Make': 'Suzuki', 'Color': 'Black'}\n",
    "\n",
    "len(motorcycle)"
   ]
  },
  {
   "cell_type": "code",
   "execution_count": null,
   "id": "magnetic-python",
   "metadata": {},
   "outputs": [],
   "source": [
    "motorcycle = {'Make': 'Suzuki', 'Year': 2015, 'Color': 'Black', 'Engine': 650}\n",
    "\n",
    "len(motorcycle)"
   ]
  },
  {
   "cell_type": "markdown",
   "id": "irish-signal",
   "metadata": {},
   "source": [
    "#### The <code>.items()</code> method returns each key-value pair of the dictionary."
   ]
  },
  {
   "cell_type": "code",
   "execution_count": 1,
   "id": "civilian-herald",
   "metadata": {},
   "outputs": [
    {
     "name": "stdout",
     "output_type": "stream",
     "text": [
      "<class 'dict_items'>\n"
     ]
    }
   ],
   "source": [
    "motorcycle = {'Make': 'Suzuki', 'Year': 2015, 'Color': 'Black', 'Engine': 650}\n",
    "\n",
    "print(type(motorcycle.items()))"
   ]
  },
  {
   "cell_type": "code",
   "execution_count": null,
   "id": "amended-consideration",
   "metadata": {},
   "outputs": [],
   "source": [
    "motorcycle = {'Make': 'Suzuki', 'Year': 2015, 'Color': 'Black', 'Engine': 650}\n",
    "\n",
    "print(list(motorcycle.items()))"
   ]
  },
  {
   "cell_type": "code",
   "execution_count": null,
   "id": "sweet-conviction",
   "metadata": {},
   "outputs": [],
   "source": [
    "motorcycle = {'Make': 'Suzuki', 'Year': 2015, 'Color': 'Black', 'Engine': 650}\n",
    "\n",
    "for key, value in motorcycle.items():\n",
    "    print(key, value)"
   ]
  },
  {
   "cell_type": "markdown",
   "id": "consecutive-pioneer",
   "metadata": {},
   "source": [
    "#### The <code>.keys()</code> method returns each key of the dictionary."
   ]
  },
  {
   "cell_type": "code",
   "execution_count": null,
   "id": "sophisticated-press",
   "metadata": {},
   "outputs": [],
   "source": [
    "motorcycle = {'Make': 'Suzuki', 'Year': 2015, 'Color': 'Black', 'Engine': 650}\n",
    "\n",
    "print(motorcycle.keys())"
   ]
  },
  {
   "cell_type": "code",
   "execution_count": null,
   "id": "devoted-boxing",
   "metadata": {},
   "outputs": [],
   "source": [
    "motorcycle = {'Make': 'Suzuki', 'Year': 2015, 'Color': 'Black', 'Engine': 650}\n",
    "\n",
    "keys_list = list(motorcycle.keys())\n",
    "print(keys_list)"
   ]
  },
  {
   "cell_type": "code",
   "execution_count": null,
   "id": "compliant-fireplace",
   "metadata": {},
   "outputs": [],
   "source": [
    "motorcycle = {'Make': 'Suzuki', 'Year': 2015, 'Color': 'Black', 'Engine': 650}\n",
    "\n",
    "for key in motorcycle.keys():     # the order in which we get the keys is not defined\n",
    "   print(key)"
   ]
  },
  {
   "cell_type": "code",
   "execution_count": null,
   "id": "correct-subscriber",
   "metadata": {},
   "outputs": [],
   "source": [
    "motorcycle = {'Make': 'Suzuki', 'Year': 2015, 'Color': 'Black', 'Engine': 650}\n",
    "\n",
    "for key in motorcycle.keys():     # the order in which we get the keys is not defined\n",
    "   print(key, \":\", motorcycle[key])"
   ]
  },
  {
   "cell_type": "markdown",
   "id": "assisted-paradise",
   "metadata": {},
   "source": [
    "#### The <code>.values()</code> method returns each value of the dictionary."
   ]
  },
  {
   "cell_type": "code",
   "execution_count": null,
   "id": "leading-thickness",
   "metadata": {},
   "outputs": [],
   "source": [
    "motorcycle = {'Make': 'Suzuki', 'Year': 2015, 'Color': 'Black', 'Engine': 650}\n",
    "\n",
    "for value in motorcycle.values():\n",
    "    print(value )"
   ]
  },
  {
   "cell_type": "code",
   "execution_count": null,
   "id": "waiting-findings",
   "metadata": {},
   "outputs": [],
   "source": [
    "motorcycle = {'Make': 'Suzuki', 'Year': 2015, 'Color': 'Black', 'Engine': 650}\n",
    "\n",
    "print(list(motorcycle.values()))"
   ]
  },
  {
   "cell_type": "markdown",
   "id": "verified-partner",
   "metadata": {},
   "source": [
    "#### The <code>in</code> and <code>not in</code> operators"
   ]
  },
  {
   "cell_type": "code",
   "execution_count": null,
   "id": "finnish-crest",
   "metadata": {},
   "outputs": [],
   "source": [
    "motorcycle = {'Make': 'Suzuki', 'Year': 2015, 'Color': 'Black', 'Engine': 650}\n",
    "\n",
    "print('Make' in motorcycle)\n",
    "print('Height' in motorcycle)"
   ]
  },
  {
   "cell_type": "code",
   "execution_count": null,
   "id": "virgin-luxury",
   "metadata": {},
   "outputs": [],
   "source": [
    "motorcycle = {'Make': 'Suzuki', 'Year': 2015, 'Color': 'Black', 'Engine': 650}\n",
    "\n",
    "print('Make' not in motorcycle)\n",
    "print('Height' not in motorcycle)"
   ]
  },
  {
   "cell_type": "markdown",
   "id": "helpful-payroll",
   "metadata": {},
   "source": [
    "#### The <code>.get()</code> method returns the value associated with a key. Returns <code>None</code> if key does not exist."
   ]
  },
  {
   "cell_type": "code",
   "execution_count": null,
   "id": "popular-engineer",
   "metadata": {},
   "outputs": [],
   "source": [
    "motorcycle = {'Make': 'Suzuki', 'Year': 2015, 'Color': 'Black', 'Engine': 650}\n",
    "\n",
    "\n",
    "print(motorcycle.get(\"Make\"))\n",
    "print(motorcycle.get(\"Height\"))"
   ]
  },
  {
   "cell_type": "markdown",
   "id": "colored-nutrition",
   "metadata": {},
   "source": [
    "#### Use the <code>sorted()</code> function to sort returned items."
   ]
  },
  {
   "cell_type": "code",
   "execution_count": null,
   "id": "unknown-vermont",
   "metadata": {},
   "outputs": [],
   "source": [
    "languages = {\n",
    "'Mary': ['English', 'French'],\n",
    "'Robert': ['Russian', 'Icelandic', 'Finish', 'Swedish'],\n",
    "'Paul': ['Lithuanian', 'English', 'French']\n",
    "}\n",
    "\n",
    "for name in sorted(languages.keys()):\n",
    "    print(name.title())"
   ]
  },
  {
   "cell_type": "markdown",
   "id": "muslim-eight",
   "metadata": {},
   "source": [
    "#### <code>list</code>in a <code>dictionary</code>."
   ]
  },
  {
   "cell_type": "code",
   "execution_count": null,
   "id": "enabling-insider",
   "metadata": {},
   "outputs": [],
   "source": [
    "languages = {\n",
    "'Mary': ['English', 'French'],\n",
    "'Robert': ['Russian', 'Icelandic', 'Finish', 'Swedish'],\n",
    "'Paul': ['Lithuanian', 'English', 'French']\n",
    "}\n",
    "\n",
    "for language in languages.values():\n",
    "    print(language)"
   ]
  },
  {
   "cell_type": "code",
   "execution_count": null,
   "id": "invalid-korean",
   "metadata": {},
   "outputs": [],
   "source": [
    "languages = {\n",
    "'Mary': ['English', 'French'],\n",
    "'Robert': ['Russian', 'Icelandic', 'Finish', 'Swedish'],\n",
    "'Paul': ['Lithuanian', 'English', 'French']\n",
    "}\n",
    "for name, languages in languages.items():\n",
    "    print(\"\\n\" + name)\n",
    "    for language in languages:\n",
    "        print(\"\\t\" + language)"
   ]
  },
  {
   "cell_type": "markdown",
   "id": "differential-passenger",
   "metadata": {},
   "source": [
    "#### <code>dictionary</code>in a <code>dictionary</code>."
   ]
  },
  {
   "cell_type": "code",
   "execution_count": null,
   "id": "julian-israel",
   "metadata": {},
   "outputs": [],
   "source": [
    "pets = {\n",
    "    \n",
    "'Dog': {\n",
    "'Name': 'Uzi',\n",
    "'Age': 5,\n",
    "'Breed': 'Australian Shepard',\n",
    "},\n",
    "\n",
    "\n",
    "'Cat': {\n",
    "'Name': 'Rudolph',\n",
    "'Age': 13,\n",
    "'Breed': 'Persian' ,\n",
    "},\n",
    " \n",
    "}\n",
    "for pet, pet_info in pets.items():\n",
    "    print(pet)\n",
    "    print(pet_info, '\\n')"
   ]
  }
 ],
 "metadata": {
  "kernelspec": {
   "display_name": "Python 3",
   "language": "python",
   "name": "python3"
  },
  "language_info": {
   "codemirror_mode": {
    "name": "ipython",
    "version": 3
   },
   "file_extension": ".py",
   "mimetype": "text/x-python",
   "name": "python",
   "nbconvert_exporter": "python",
   "pygments_lexer": "ipython3",
   "version": "3.9.2"
  }
 },
 "nbformat": 4,
 "nbformat_minor": 5
}
