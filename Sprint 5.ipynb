{
 "cells": [
  {
   "cell_type": "markdown",
   "id": "saving-guidance",
   "metadata": {},
   "source": [
    "# <center> Sprint 5</center>"
   ]
  },
  {
   "cell_type": "markdown",
   "id": "practical-broadcast",
   "metadata": {},
   "source": [
    "<b>Topics</b> <br>\n",
    "1. Primitive Data Types<br>\n",
    "3. Converting Primitive Data Types<br>\n",
    "4. Non-Primitive Data Types<br>\n",
    "5. Common Exceptions (Errors)<br>\n",
    "6. Error Handling (try, except, else, finally)<br>"
   ]
  },
  {
   "cell_type": "markdown",
   "id": "celtic-patrol",
   "metadata": {},
   "source": [
    "# Python Data Structures"
   ]
  },
  {
   "cell_type": "markdown",
   "id": "imperial-queens",
   "metadata": {},
   "source": [
    "## Primitive Data Types"
   ]
  },
  {
   "cell_type": "code",
   "execution_count": null,
   "id": "comparative-equivalent",
   "metadata": {},
   "outputs": [],
   "source": [
    "type(2)"
   ]
  },
  {
   "cell_type": "code",
   "execution_count": null,
   "id": "addressed-train",
   "metadata": {},
   "outputs": [],
   "source": [
    "type(2.0)"
   ]
  },
  {
   "cell_type": "code",
   "execution_count": null,
   "id": "bound-dressing",
   "metadata": {},
   "outputs": [],
   "source": [
    "type('Hello')"
   ]
  },
  {
   "cell_type": "code",
   "execution_count": null,
   "id": "given-capability",
   "metadata": {},
   "outputs": [],
   "source": [
    "type(True)"
   ]
  },
  {
   "cell_type": "code",
   "execution_count": null,
   "id": "religious-junior",
   "metadata": {},
   "outputs": [],
   "source": [
    "type(False)"
   ]
  },
  {
   "cell_type": "markdown",
   "id": "southwest-boxing",
   "metadata": {},
   "source": [
    "Boolean <code>True</code> and <code>False</code> are equal to 1 and 0 respectively."
   ]
  },
  {
   "cell_type": "code",
   "execution_count": null,
   "id": "mathematical-costa",
   "metadata": {},
   "outputs": [],
   "source": [
    "# True is equal to 1.\n",
    "True == 1"
   ]
  },
  {
   "cell_type": "code",
   "execution_count": null,
   "id": "sudden-proof",
   "metadata": {},
   "outputs": [],
   "source": [
    "# False is equal to 0.\n",
    "False == 0"
   ]
  },
  {
   "cell_type": "markdown",
   "id": "balanced-sperm",
   "metadata": {},
   "source": [
    "### Converting Primitive Data Types"
   ]
  },
  {
   "cell_type": "markdown",
   "id": "identified-solution",
   "metadata": {},
   "source": [
    "<code>int()</code> function converts float to integer."
   ]
  },
  {
   "cell_type": "code",
   "execution_count": null,
   "id": "novel-civilian",
   "metadata": {},
   "outputs": [],
   "source": [
    "int(2.3)"
   ]
  },
  {
   "cell_type": "code",
   "execution_count": null,
   "id": "differential-harvest",
   "metadata": {},
   "outputs": [],
   "source": [
    "int(-2.8)"
   ]
  },
  {
   "cell_type": "markdown",
   "id": "egyptian-backing",
   "metadata": {},
   "source": [
    "<code>float()</code> function converts integer to float."
   ]
  },
  {
   "cell_type": "code",
   "execution_count": null,
   "id": "immune-centre",
   "metadata": {
    "scrolled": true
   },
   "outputs": [],
   "source": [
    "float(5)"
   ]
  },
  {
   "cell_type": "markdown",
   "id": "running-gibson",
   "metadata": {},
   "source": [
    "<code>str()</code> function converts an object into the string version of the object."
   ]
  },
  {
   "cell_type": "code",
   "execution_count": null,
   "id": "remarkable-vienna",
   "metadata": {},
   "outputs": [],
   "source": [
    "str(2)"
   ]
  },
  {
   "cell_type": "code",
   "execution_count": null,
   "id": "later-province",
   "metadata": {},
   "outputs": [],
   "source": [
    "str(2.0)"
   ]
  },
  {
   "cell_type": "code",
   "execution_count": null,
   "id": "urban-contributor",
   "metadata": {},
   "outputs": [],
   "source": [
    "str('Adam')"
   ]
  },
  {
   "cell_type": "code",
   "execution_count": null,
   "id": "reliable-hollywood",
   "metadata": {},
   "outputs": [],
   "source": [
    "str(b'Python!')"
   ]
  },
  {
   "cell_type": "markdown",
   "id": "breeding-marker",
   "metadata": {},
   "source": [
    "## Non-Primitive Data Types"
   ]
  },
  {
   "cell_type": "markdown",
   "id": "positive-valve",
   "metadata": {},
   "source": [
    "### <code>Lists</code> "
   ]
  },
  {
   "cell_type": "code",
   "execution_count": null,
   "id": "average-simple",
   "metadata": {},
   "outputs": [],
   "source": [
    "list_1 = [1, 2, 3, 4]"
   ]
  },
  {
   "cell_type": "code",
   "execution_count": null,
   "id": "simplified-tiger",
   "metadata": {},
   "outputs": [],
   "source": [
    "list_1.append('I love my dog.')"
   ]
  },
  {
   "cell_type": "code",
   "execution_count": null,
   "id": "inner-alliance",
   "metadata": {},
   "outputs": [],
   "source": [
    "list_1"
   ]
  },
  {
   "cell_type": "code",
   "execution_count": null,
   "id": "automated-junction",
   "metadata": {},
   "outputs": [],
   "source": [
    "# Pops off the first item on the list.\n",
    "list_1.pop(0)"
   ]
  },
  {
   "cell_type": "code",
   "execution_count": null,
   "id": "discrete-virtue",
   "metadata": {},
   "outputs": [],
   "source": [
    "list_1"
   ]
  },
  {
   "cell_type": "code",
   "execution_count": null,
   "id": "answering-scoop",
   "metadata": {},
   "outputs": [],
   "source": [
    "# By default pop() removes the last item on the list.\n",
    "popped_item = list_1.pop()"
   ]
  },
  {
   "cell_type": "code",
   "execution_count": null,
   "id": "baking-professor",
   "metadata": {},
   "outputs": [],
   "source": [
    "popped_item"
   ]
  },
  {
   "cell_type": "code",
   "execution_count": null,
   "id": "reduced-revision",
   "metadata": {},
   "outputs": [],
   "source": [
    "list_1"
   ]
  },
  {
   "cell_type": "code",
   "execution_count": null,
   "id": "abandoned-pencil",
   "metadata": {},
   "outputs": [],
   "source": [
    "print(dir(list_1))"
   ]
  },
  {
   "cell_type": "markdown",
   "id": "enhanced-twist",
   "metadata": {},
   "source": [
    "### <code>Tuples</code> "
   ]
  },
  {
   "cell_type": "code",
   "execution_count": null,
   "id": "early-playing",
   "metadata": {},
   "outputs": [],
   "source": [
    "my_tuple = (9, \"banana\", False, \"cherry\", \"banana\")"
   ]
  },
  {
   "cell_type": "code",
   "execution_count": null,
   "id": "unavailable-print",
   "metadata": {},
   "outputs": [],
   "source": [
    "print(my_tuple[0])"
   ]
  },
  {
   "cell_type": "code",
   "execution_count": null,
   "id": "prescribed-crest",
   "metadata": {},
   "outputs": [],
   "source": [
    "print(dir(my_tuple))"
   ]
  },
  {
   "cell_type": "code",
   "execution_count": null,
   "id": "engaging-michael",
   "metadata": {},
   "outputs": [],
   "source": [
    "print(help(my_tuple.count))"
   ]
  },
  {
   "cell_type": "markdown",
   "id": "optical-interview",
   "metadata": {},
   "source": [
    "### <code>Sets</code> "
   ]
  },
  {
   "cell_type": "code",
   "execution_count": null,
   "id": "auburn-vietnamese",
   "metadata": {},
   "outputs": [],
   "source": [
    "courses = {'math', 'science', 'geography', 'art', 'math'}"
   ]
  },
  {
   "cell_type": "code",
   "execution_count": null,
   "id": "interested-coupon",
   "metadata": {},
   "outputs": [],
   "source": [
    "print(courses)"
   ]
  },
  {
   "cell_type": "code",
   "execution_count": null,
   "id": "bronze-orbit",
   "metadata": {},
   "outputs": [],
   "source": [
    "set(['foo', 'bar', 'baz', 'foo', 'qux'])"
   ]
  },
  {
   "cell_type": "code",
   "execution_count": null,
   "id": "agreed-vocabulary",
   "metadata": {},
   "outputs": [],
   "source": [
    "# Changing a list into a set\n",
    "\n",
    "set([10, 22, 75, 'a', 'dog', 1, 2, 3, 3, 4, 5, 5, 5, 6])"
   ]
  },
  {
   "cell_type": "code",
   "execution_count": null,
   "id": "paperback-trauma",
   "metadata": {},
   "outputs": [],
   "source": [
    "a = {1, 10, 2, 22, 3, 4, 5, 6, 75, 'a', 'dog'}\n",
    "a"
   ]
  },
  {
   "cell_type": "markdown",
   "id": "directed-showcase",
   "metadata": {},
   "source": [
    "### <code>Dictionaries</code> "
   ]
  },
  {
   "cell_type": "code",
   "execution_count": null,
   "id": "finite-radio",
   "metadata": {},
   "outputs": [],
   "source": [
    "# Create a new dictionary\n",
    "d = {}"
   ]
  },
  {
   "cell_type": "code",
   "execution_count": null,
   "id": "sublime-motion",
   "metadata": {},
   "outputs": [],
   "source": [
    "# Create a new key through assignment\n",
    "d['animal'] = 'Dog'"
   ]
  },
  {
   "cell_type": "code",
   "execution_count": null,
   "id": "assured-journalism",
   "metadata": {},
   "outputs": [],
   "source": [
    "d"
   ]
  },
  {
   "cell_type": "code",
   "execution_count": null,
   "id": "resistant-place",
   "metadata": {},
   "outputs": [],
   "source": [
    "# Can do this with any object\n",
    "d['answer'] = 42"
   ]
  },
  {
   "cell_type": "code",
   "execution_count": null,
   "id": "standing-silver",
   "metadata": {},
   "outputs": [],
   "source": [
    "#Show\n",
    "d"
   ]
  },
  {
   "cell_type": "code",
   "execution_count": null,
   "id": "powered-windows",
   "metadata": {},
   "outputs": [],
   "source": [
    "d['animal']"
   ]
  },
  {
   "cell_type": "markdown",
   "id": "ready-recycling",
   "metadata": {},
   "source": [
    "## Common Exceptions (Errors)"
   ]
  },
  {
   "cell_type": "markdown",
   "id": "digital-wilson",
   "metadata": {},
   "source": [
    "### ZeroDivisionError: Number is divided by zero"
   ]
  },
  {
   "cell_type": "code",
   "execution_count": null,
   "id": "political-flash",
   "metadata": {},
   "outputs": [],
   "source": [
    "a = 1/0"
   ]
  },
  {
   "cell_type": "markdown",
   "id": "immune-bedroom",
   "metadata": {},
   "source": [
    "### NameError: Name is not found"
   ]
  },
  {
   "cell_type": "code",
   "execution_count": null,
   "id": "efficient-premiere",
   "metadata": {},
   "outputs": [],
   "source": [
    "x = 1\n",
    "print(y)"
   ]
  },
  {
   "cell_type": "markdown",
   "id": "phantom-water",
   "metadata": {},
   "source": [
    "### IndentationError: Incorrect indentation"
   ]
  },
  {
   "cell_type": "code",
   "execution_count": null,
   "id": "sought-apollo",
   "metadata": {},
   "outputs": [],
   "source": [
    "y = 5\n",
    "z = 7\n",
    "\n",
    "if y < z:\n",
    "print(z)\n"
   ]
  },
  {
   "cell_type": "markdown",
   "id": "streaming-analyst",
   "metadata": {},
   "source": [
    "### TypeError: Operation or function is attempted on an inappropriate data type"
   ]
  },
  {
   "cell_type": "code",
   "execution_count": null,
   "id": "tight-falls",
   "metadata": {},
   "outputs": [],
   "source": [
    "a = 1 + 'apple'"
   ]
  },
  {
   "cell_type": "code",
   "execution_count": null,
   "id": "persistent-italic",
   "metadata": {},
   "outputs": [],
   "source": [
    "w = 30\n",
    "print(w[0])"
   ]
  },
  {
   "cell_type": "markdown",
   "id": "lightweight-poland",
   "metadata": {},
   "source": [
    "### ValueError: An operation or function receives an argument that has the right type but an inappropriate value"
   ]
  },
  {
   "cell_type": "code",
   "execution_count": null,
   "id": "social-saskatchewan",
   "metadata": {},
   "outputs": [],
   "source": [
    "print(int('apple'))"
   ]
  },
  {
   "cell_type": "markdown",
   "id": "resident-thanksgiving",
   "metadata": {},
   "source": [
    "## Error Handling (<code>try</code>, <code>except</code>, <code>else</code>, <code>finally</code>)"
   ]
  },
  {
   "cell_type": "markdown",
   "id": "independent-dakota",
   "metadata": {},
   "source": [
    "### Using <code>try</code> <code>except</code>"
   ]
  },
  {
   "cell_type": "code",
   "execution_count": null,
   "id": "fatty-summer",
   "metadata": {},
   "outputs": [],
   "source": [
    "# It is possible to use try except only. This code will print Something went wrong.\n",
    "\n",
    "try:\n",
    "    x = 1/0\n",
    "\n",
    "# We will not know why the except block executes.\n",
    "except:\n",
    "    print('Some error occured.')"
   ]
  },
  {
   "cell_type": "code",
   "execution_count": null,
   "id": "clear-editing",
   "metadata": {},
   "outputs": [],
   "source": [
    "1/0"
   ]
  },
  {
   "cell_type": "code",
   "execution_count": null,
   "id": "hydraulic-surveillance",
   "metadata": {},
   "outputs": [],
   "source": [
    "# This code calls a function in the try block.\n",
    "\n",
    "def divide_by_zero():\n",
    "    x = 1/0\n",
    "\n",
    "try:\n",
    "    divide_by_zero()\n",
    "\n",
    "# We will know why the except block executes.\n",
    "except Exception as e:\n",
    "    print(e)"
   ]
  },
  {
   "cell_type": "code",
   "execution_count": null,
   "id": "level-value",
   "metadata": {},
   "outputs": [],
   "source": [
    "# This code ONLY catches division by zero error. It will not catch any other error.\n",
    "\n",
    "try:\n",
    "    x = 1/0\n",
    "\n",
    "# The except block executes ONlY for division by 0.\n",
    "except ZeroDivisionError:\n",
    "    print('Division by zero error occured.')"
   ]
  },
  {
   "cell_type": "code",
   "execution_count": null,
   "id": "annual-partner",
   "metadata": {},
   "outputs": [],
   "source": [
    "try:  \n",
    "    a = int(input(\"Enter a:\"))    \n",
    "    b = int(input(\"Enter b:\"))    \n",
    "    c = a/b\n",
    "    print(c)\n",
    "\n",
    "# The except block executes for any error and not just for a division by zero error.\n",
    "except:  \n",
    "    print(\"Some error occured.\") "
   ]
  },
  {
   "cell_type": "code",
   "execution_count": null,
   "id": "egyptian-proposal",
   "metadata": {},
   "outputs": [],
   "source": [
    "# Ideally, you place ONLY the lines of code that can cause an error in the try block. This is NOT done in this example.\n",
    "\n",
    "num1 = input ('First number: ')\n",
    "num2 = input ('Second number: ')\n",
    "\n",
    "# Runs the code to add the integers.\n",
    "try:\n",
    "    num1 = int(num1)\n",
    "    num2 = int(num2)\n",
    "    num = num1 + num2\n",
    "    print (num)\n",
    "\n",
    "# If non-integer is inputed, prints the message.\n",
    "except:\n",
    "    print ('Only numbers are accepted.')\n",
    "    \n",
    "print('Done!')"
   ]
  },
  {
   "cell_type": "markdown",
   "id": "confidential-pipeline",
   "metadata": {},
   "source": [
    "### Using <code>try</code> <code>except</code> <code>else</code>"
   ]
  },
  {
   "cell_type": "code",
   "execution_count": null,
   "id": "coordinated-masters",
   "metadata": {},
   "outputs": [],
   "source": [
    "try:    \n",
    "    a = int(input(\"Enter a:\"))    \n",
    "    b = int(input(\"Enter b:\"))    \n",
    "    c = a/b  \n",
    "    print(f'a/b = {c}')    \n",
    "\n",
    "# Using Exception with except statement. If we print(Exception) it will return exception class  \n",
    "except Exception as e:       \n",
    "    print(e)  \n",
    "\n",
    "else:    \n",
    "    print('The else block executes ONLY if try succeeds.')  "
   ]
  },
  {
   "cell_type": "code",
   "execution_count": null,
   "id": "according-league",
   "metadata": {},
   "outputs": [],
   "source": [
    "# The try block executes. If there is an error, except block executes. If there is no error, else block executes.\n",
    "\n",
    "num_1 = input ('First number: ')\n",
    "num_2 = input ('Second number: ')\n",
    "\n",
    "try:\n",
    "    # This line is a question: Are both num1 and num2 integers?\n",
    "    int(num_1) and int(num_2)\n",
    "\n",
    "except:\n",
    "    print ('Only numbers are accepted.')\n",
    "\n",
    "# Executes if NO error was found in the try block, the else block executes.\n",
    "else:\n",
    "    num_1 = int(num_1)\n",
    "    num_2 = int(num_2)\n",
    "    num = num_1 + num_2\n",
    "    print (num)"
   ]
  },
  {
   "cell_type": "markdown",
   "id": "mental-royalty",
   "metadata": {},
   "source": [
    "### Using <code>try</code> <code>except</code> <code>else</code> <code>finally</code>"
   ]
  },
  {
   "cell_type": "code",
   "execution_count": null,
   "id": "turned-argument",
   "metadata": {},
   "outputs": [],
   "source": [
    "# The try block executes.If there IS an error, except block executes. \n",
    "# If there is NO error, else block executes.\n",
    "# The finally block executes no matter what happens.\n",
    "\n",
    "num1 = input ('First number: ')\n",
    "num2 = input ('Second number: ')\n",
    "\n",
    "\n",
    "try:\n",
    "    int(num1) and int(num2)\n",
    "\n",
    "except ValueError:\n",
    "    print ('Only numbers are accepted.')\n",
    "\n",
    "# Executes if NO error in try block.\n",
    "else:\n",
    "    num1 = int(num1)\n",
    "    num2 = int(num2)\n",
    "    num = num1 + num2\n",
    "    print (num)\n",
    "\n",
    "finally:\n",
    "    print('This line executes no matter what happens.')"
   ]
  }
 ],
 "metadata": {
  "kernelspec": {
   "display_name": "Python 3",
   "language": "python",
   "name": "python3"
  },
  "language_info": {
   "codemirror_mode": {
    "name": "ipython",
    "version": 3
   },
   "file_extension": ".py",
   "mimetype": "text/x-python",
   "name": "python",
   "nbconvert_exporter": "python",
   "pygments_lexer": "ipython3",
   "version": "3.9.2"
  }
 },
 "nbformat": 4,
 "nbformat_minor": 5
}
