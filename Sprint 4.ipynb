{
 "cells": [
  {
   "cell_type": "markdown",
   "id": "saving-guidance",
   "metadata": {},
   "source": [
    "# <center> Sprint 4</center>"
   ]
  },
  {
   "cell_type": "markdown",
   "id": "practical-broadcast",
   "metadata": {},
   "source": [
    "<b>Topics</b> <br>\n",
    "1. Global and Local Variables<br>\n",
    "2. Single return Statement<br>\n",
    "3. Dead Code<br>\n",
    "4. Multiple return Statements<br>\n",
    "5. Returning None<br>\n",
    "6. Positional Arguments<br>\n",
    "7. Positional Arguments with a Default Value<br>\n",
    "8. Keywod Arguments<br>\n",
    "9. Functions can call other functions<br>\n",
    "10. Functions can return multiple values<br>\n",
    "11. Documentation Strings<br>"
   ]
  },
  {
   "cell_type": "markdown",
   "id": "nervous-marker",
   "metadata": {},
   "source": [
    "## Global and Local Variables"
   ]
  },
  {
   "cell_type": "markdown",
   "id": "waiting-startup",
   "metadata": {},
   "source": [
    "### Using a variable inside a function that was created outside the function"
   ]
  },
  {
   "cell_type": "code",
   "execution_count": null,
   "id": "quiet-queens",
   "metadata": {},
   "outputs": [],
   "source": [
    "# This will work because z is created inside the function.\n",
    "\n",
    "def my_function(x, y):\n",
    "    z = 7\n",
    "    print(x + y + z)\n",
    "\n",
    "my_function(2, 3)"
   ]
  },
  {
   "cell_type": "code",
   "execution_count": null,
   "id": "legal-reserve",
   "metadata": {},
   "outputs": [],
   "source": [
    "# This will work because h has been assigned a value on line 2 before the function call on line 8. \n",
    "\n",
    "h = 7\n",
    "\n",
    "def my_function(x, y):\n",
    "    print(x + y + h)\n",
    "\n",
    "my_function(2, 3)"
   ]
  },
  {
   "cell_type": "code",
   "execution_count": null,
   "id": "discrete-lighting",
   "metadata": {},
   "outputs": [],
   "source": [
    "# This will work because c has been assigned a value on line 6 before the function call on line 8.\n",
    "\n",
    "def my_function(x, y):\n",
    "    print(x + y + c)\n",
    "\n",
    "h = c    \n",
    "my_function(2, 3)"
   ]
  },
  {
   "cell_type": "code",
   "execution_count": null,
   "id": "stylish-violence",
   "metadata": {},
   "outputs": [],
   "source": [
    "# This will NOT work because d has been assigned a value on line 7 before the function call on line 6.\n",
    "\n",
    "def my_function(x, y):\n",
    "    print(x + y + d)\n",
    " \n",
    "my_function(2, 3)\n",
    "d = 7   "
   ]
  },
  {
   "cell_type": "markdown",
   "id": "latest-globe",
   "metadata": {},
   "source": [
    "### Using a variable outside a function that was created inside the function"
   ]
  },
  {
   "cell_type": "code",
   "execution_count": null,
   "id": "departmental-completion",
   "metadata": {},
   "outputs": [],
   "source": [
    "# Variable g is created inside the function and CANNOT be seen outside the function.\n",
    "\n",
    "def my_function(x, y):\n",
    "    g = (x + y)\n",
    "\n",
    "my_function(2, 3)\n",
    "print(g)"
   ]
  },
  {
   "cell_type": "markdown",
   "id": "moderate-shuttle",
   "metadata": {},
   "source": [
    "### Assigning a value to a variable inside a function does NOT change it's value outside the function."
   ]
  },
  {
   "cell_type": "code",
   "execution_count": null,
   "id": "supported-flavor",
   "metadata": {},
   "outputs": [],
   "source": [
    "# The value of the variable, power, is changed inside the function.\n",
    "# Even thought the variable power is declared outside the function and inside the function, they don't know one another.\n",
    "# They are at two different memory locations.\n",
    "\n",
    "def powerof(x, p):\n",
    "    power = p   # We change the value of the variable, power, inside the function. power is now a local variable.\n",
    "    y = x ** power\n",
    "    return y\n",
    "\n",
    "power = 3 # The value of the global variable power does not change.\n",
    "result = powerof(10, 2)\n",
    "print(power)"
   ]
  },
  {
   "cell_type": "code",
   "execution_count": null,
   "id": "impressive-addiction",
   "metadata": {},
   "outputs": [],
   "source": [
    "# Even though x is changed from 2 to 0 in the function, the value of x remains 2 outside the function.\n",
    "# This is true even though the name of the varialbe, x is the same inside the function and outside the function.\n",
    "\n",
    "def square(x):\n",
    "    y = x * x\n",
    "    x = 0       # We assign a new value to the parameter x.\n",
    "    return y\n",
    "\n",
    "x = 2\n",
    "z = square(x)\n",
    "print(x)"
   ]
  },
  {
   "cell_type": "markdown",
   "id": "protecting-snake",
   "metadata": {},
   "source": [
    "### BAD PRACTICE: Allowing a function to access a global variable"
   ]
  },
  {
   "cell_type": "code",
   "execution_count": null,
   "id": "distinct-toilet",
   "metadata": {},
   "outputs": [],
   "source": [
    "# BAD CODING PRACTICE: This functions uses a global variable inside the function. \n",
    "\n",
    "def bad_square(x):\n",
    "    y = x ** power\n",
    "    return y\n",
    "\n",
    "power = 2\n",
    "result = bad_square(10)\n",
    "print(result)"
   ]
  },
  {
   "cell_type": "markdown",
   "id": "conscious-suspension",
   "metadata": {},
   "source": [
    "### Single return Statement"
   ]
  },
  {
   "cell_type": "code",
   "execution_count": null,
   "id": "bizarre-blast",
   "metadata": {},
   "outputs": [],
   "source": [
    "def my_function(x, y):\n",
    "    w = (x + y)\n",
    "    return w\n",
    "    # This print statement comes after return and will not get executed. It is dead code.\n",
    "    print('What will print?')\n",
    "\n",
    "print(my_function(2, 3))"
   ]
  },
  {
   "cell_type": "markdown",
   "id": "boolean-rwanda",
   "metadata": {},
   "source": [
    "### Multiple return Statements"
   ]
  },
  {
   "cell_type": "code",
   "execution_count": null,
   "id": "pregnant-martial",
   "metadata": {},
   "outputs": [],
   "source": [
    "def my_function(x, y):\n",
    "    \n",
    "    z = (x + y)\n",
    "    if z < 5:\n",
    "        return 'Less than 5.'\n",
    "    elif z == 5:\n",
    "        return 'Equal to 5.'\n",
    "    elif z > 5:\n",
    "        return 'Greater than 5.'\n",
    "\n",
    "result = my_function(2, 3)\n",
    "print(result)"
   ]
  },
  {
   "cell_type": "markdown",
   "id": "herbal-winning",
   "metadata": {},
   "source": [
    "### Returning None"
   ]
  },
  {
   "cell_type": "code",
   "execution_count": null,
   "id": "amended-maryland",
   "metadata": {},
   "outputs": [],
   "source": [
    "def my_function(x, y):\n",
    "    print(x + y)\n",
    "\n",
    "result = my_function(2, 3)\n",
    "\n",
    "\n",
    "print(result)"
   ]
  },
  {
   "cell_type": "markdown",
   "id": "dominican-memory",
   "metadata": {},
   "source": [
    "### Positional Arguments"
   ]
  },
  {
   "cell_type": "code",
   "execution_count": null,
   "id": "early-complex",
   "metadata": {},
   "outputs": [],
   "source": [
    "# The number of arguments match the number of parameters.\n",
    "\n",
    "def my_function(x, y):\n",
    "    print(x + y)\n",
    "\n",
    "my_function(2, 3)"
   ]
  },
  {
   "cell_type": "code",
   "execution_count": null,
   "id": "brutal-mitchell",
   "metadata": {},
   "outputs": [],
   "source": [
    "# The number of arguments do not match the number of parameters.\n",
    "\n",
    "def my_function(x, y):\n",
    "    print(x + y)\n",
    "\n",
    "my_function(2)"
   ]
  },
  {
   "cell_type": "code",
   "execution_count": null,
   "id": "liable-sweet",
   "metadata": {},
   "outputs": [],
   "source": [
    "# The number of arguments do not match the number of parameters.\n",
    "\n",
    "def my_function(x, y):\n",
    "    print(x + y)\n",
    "\n",
    "my_function(2, 3, 7)"
   ]
  },
  {
   "cell_type": "markdown",
   "id": "completed-alias",
   "metadata": {},
   "source": [
    "### Positional Arguments with Default Values"
   ]
  },
  {
   "cell_type": "code",
   "execution_count": null,
   "id": "speaking-pilot",
   "metadata": {},
   "outputs": [],
   "source": [
    "def describe_pet(pet_name, text, animal_type = 'dog'):\n",
    "\n",
    "    print(f\"I have a {text} {animal_type}.\")\n",
    "    print(f\"My {animal_type}'s name is {pet_name}.\")\n",
    "\n",
    "\n",
    "describe_pet('willie', animal_type = 'cat', text = 'big')"
   ]
  },
  {
   "cell_type": "code",
   "execution_count": null,
   "id": "opening-temple",
   "metadata": {},
   "outputs": [],
   "source": [
    "def describe_pet(pet_name, animal_type = 'dog'):\n",
    "\n",
    "    print(f\"I have a {animal_type}.\")\n",
    "    print(f\"My {animal_type}'s name is {pet_name}.\")\n",
    "\n",
    "describe_pet('willie')"
   ]
  },
  {
   "cell_type": "markdown",
   "id": "according-wrong",
   "metadata": {},
   "source": [
    "### Keyword Arguments"
   ]
  },
  {
   "cell_type": "code",
   "execution_count": null,
   "id": "bronze-gardening",
   "metadata": {},
   "outputs": [],
   "source": [
    "def describe_pet(pet_name, animal_type):\n",
    "\n",
    "    print(f\"I have a {animal_type}.\")\n",
    "    print(f\"My {animal_type}'s name is {pet_name}.\")\n",
    "\n",
    "\n",
    "describe_pet(pet_name='willie', animal_type='cat')"
   ]
  },
  {
   "cell_type": "code",
   "execution_count": null,
   "id": "practical-chamber",
   "metadata": {},
   "outputs": [],
   "source": [
    "def describe_pet(pet_name, animal_type):\n",
    "\n",
    "    print(f\"I have a {animal_type}.\")\n",
    "    print(f\"My {animal_type}'s name is {pet_name}.\")\n",
    "\n",
    "# When using keyword arguments, the order does not matter.\n",
    "describe_pet(animal_type='cat', pet_name='willie')"
   ]
  },
  {
   "cell_type": "markdown",
   "id": "classical-settle",
   "metadata": {},
   "source": [
    "### Ordering positional, default and keyword arguments"
   ]
  },
  {
   "cell_type": "code",
   "execution_count": null,
   "id": "indonesian-sweet",
   "metadata": {},
   "outputs": [],
   "source": [
    "# First: Positional arguments\n",
    "# Second: Positional arguments with a default value.\n",
    "# Third: Keyword arguments\n",
    "\n",
    "def describe_pet(pet_name, animal_type = 'dog', size = 'big' ):\n",
    "\n",
    "    print(f\"I have a {size} {animal_type}.\")\n",
    "    print(f\"My {animal_type}'s name is {pet_name}.\")\n",
    "\n",
    "\n",
    "describe_pet('willie', 'cat', size = 'big')"
   ]
  },
  {
   "cell_type": "markdown",
   "id": "criminal-mechanism",
   "metadata": {},
   "source": [
    "### Functions can all other functions"
   ]
  },
  {
   "cell_type": "code",
   "execution_count": null,
   "id": "demanding-observer",
   "metadata": {},
   "outputs": [],
   "source": [
    "def square(x):\n",
    "    y = x * x\n",
    "    return y\n",
    "\n",
    "def sum_of_squares(x, y, z):\n",
    "    a = square(x)\n",
    "    b = square(y)\n",
    "    c = square(z)\n",
    "    \n",
    "    return a + b + c\n",
    "\n",
    "a = -5\n",
    "b = 2\n",
    "c = 10\n",
    "result = sum_of_squares(a, b, c)\n",
    "print(result)"
   ]
  },
  {
   "cell_type": "markdown",
   "id": "monthly-editor",
   "metadata": {},
   "source": [
    "### Functions can return multiple values"
   ]
  },
  {
   "cell_type": "code",
   "execution_count": null,
   "id": "supreme-union",
   "metadata": {},
   "outputs": [],
   "source": [
    "def square(x):\n",
    "    y = x * x\n",
    "    return y\n",
    "\n",
    "def squares(x, y, z):\n",
    "    a = square(x)\n",
    "    b = square(y)\n",
    "    c = square(z)\n",
    "    \n",
    "    return a, b, c\n",
    "\n",
    "a = -5\n",
    "b = 2\n",
    "c = 10\n",
    "\n",
    "# The returned values will be stored in a tuple.\n",
    "result = squares(a, b, c)\n",
    "print(result)"
   ]
  },
  {
   "cell_type": "code",
   "execution_count": null,
   "id": "legitimate-visibility",
   "metadata": {},
   "outputs": [],
   "source": [
    "def square(x):\n",
    "    y = x * x\n",
    "    return y\n",
    "\n",
    "def squares(x, y, z):\n",
    "    a = square(x)\n",
    "    b = square(y)\n",
    "    c = square(z)\n",
    "    \n",
    "    return a, b, c\n",
    "\n",
    "a = -5\n",
    "b = 2\n",
    "c = 10\n",
    "\n",
    "# The returned values will be stored in individual variables.\n",
    "x, y, z = squares(a, b, c)\n",
    "print(x)\n",
    "print(y)\n",
    "print(z)"
   ]
  },
  {
   "cell_type": "markdown",
   "id": "deadly-impact",
   "metadata": {},
   "source": [
    "### Documentation Strings"
   ]
  },
  {
   "cell_type": "code",
   "execution_count": null,
   "id": "western-subdivision",
   "metadata": {},
   "outputs": [],
   "source": [
    "def greet_user():\n",
    "    \"\"\"Display a simple greeting.\"\"\"      \n",
    "\n",
    "print(\"Hello!\")\n",
    "\n",
    "greet_user()"
   ]
  }
 ],
 "metadata": {
  "kernelspec": {
   "display_name": "Python 3",
   "language": "python",
   "name": "python3"
  },
  "language_info": {
   "codemirror_mode": {
    "name": "ipython",
    "version": 3
   },
   "file_extension": ".py",
   "mimetype": "text/x-python",
   "name": "python",
   "nbconvert_exporter": "python",
   "pygments_lexer": "ipython3",
   "version": "3.9.2"
  }
 },
 "nbformat": 4,
 "nbformat_minor": 5
}
