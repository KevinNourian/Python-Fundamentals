{
 "cells": [
  {
   "cell_type": "markdown",
   "id": "saving-guidance",
   "metadata": {},
   "source": [
    "# <center> Sprint 7</center>"
   ]
  },
  {
   "cell_type": "markdown",
   "id": "material-stress",
   "metadata": {},
   "source": [
    "## Creating Lists"
   ]
  },
  {
   "cell_type": "code",
   "execution_count": null,
   "id": "asian-angle",
   "metadata": {},
   "outputs": [],
   "source": [
    "[1, 2, 3]"
   ]
  },
  {
   "cell_type": "code",
   "execution_count": null,
   "id": "mounted-mortgage",
   "metadata": {},
   "outputs": [],
   "source": [
    "['Apple', 'Orange', 'Plum']"
   ]
  },
  {
   "cell_type": "markdown",
   "id": "beautiful-spring",
   "metadata": {},
   "source": [
    "## A List Within a List"
   ]
  },
  {
   "cell_type": "code",
   "execution_count": null,
   "id": "popular-newspaper",
   "metadata": {},
   "outputs": [],
   "source": [
    "[\"hello\", 2.0, 5, [10, 20]]"
   ]
  },
  {
   "cell_type": "code",
   "execution_count": null,
   "id": "fitted-password",
   "metadata": {},
   "outputs": [],
   "source": [
    "[\"hello\", 2.0, 5, []]"
   ]
  },
  {
   "cell_type": "markdown",
   "id": "illegal-criterion",
   "metadata": {},
   "source": [
    "## Empty List"
   ]
  },
  {
   "cell_type": "code",
   "execution_count": null,
   "id": "quick-thumbnail",
   "metadata": {},
   "outputs": [],
   "source": [
    "[]\n",
    "type([])"
   ]
  },
  {
   "cell_type": "markdown",
   "id": "outstanding-resident",
   "metadata": {},
   "source": [
    "## Printing a List"
   ]
  },
  {
   "cell_type": "code",
   "execution_count": null,
   "id": "referenced-grenada",
   "metadata": {},
   "outputs": [],
   "source": [
    "japanese_motorcycles = ['Honda', 'Suzuki', 'Yamaha'] \n",
    "\n",
    "#print() function print the list with the square brackets. \n",
    "print(japanese_motorcycles)"
   ]
  },
  {
   "cell_type": "code",
   "execution_count": null,
   "id": "concrete-differential",
   "metadata": {},
   "outputs": [],
   "source": [
    "#If you want to print the elements of a list without the brackets:\n",
    "print(*japanese_motorcycles)"
   ]
  },
  {
   "cell_type": "markdown",
   "id": "applied-carter",
   "metadata": {},
   "source": [
    "## <code>len()</code> Function"
   ]
  },
  {
   "cell_type": "code",
   "execution_count": null,
   "id": "quality-chorus",
   "metadata": {},
   "outputs": [],
   "source": [
    "my_list =  [\"hello\", 2.0, 5, [10, 20]]\n",
    "\n",
    "print(len(my_list))\n",
    "\n",
    "print(len(['spam!', 1, ['Brie', 'Roquefort', 'Pol le Veq'], [1, 2, 3]]))"
   ]
  },
  {
   "cell_type": "code",
   "execution_count": null,
   "id": "incoming-bahrain",
   "metadata": {},
   "outputs": [],
   "source": [
    "my_list = [3, 67, \"cat\", [56, 57, \"dog\"], [ ], 3.14, False]\n",
    "print(len(my_list))"
   ]
  },
  {
   "cell_type": "markdown",
   "id": "legal-punch",
   "metadata": {},
   "source": [
    "## Accessing Elements of a List"
   ]
  },
  {
   "cell_type": "code",
   "execution_count": null,
   "id": "tamil-cherry",
   "metadata": {},
   "outputs": [],
   "source": [
    "numbers = [17, 123, 87, 34, 66, 8398, 44]\n",
    "\n",
    "print(numbers[2])"
   ]
  },
  {
   "cell_type": "markdown",
   "id": "controlled-catch",
   "metadata": {},
   "source": [
    "## Indexing from right to left"
   ]
  },
  {
   "cell_type": "code",
   "execution_count": null,
   "id": "previous-opportunity",
   "metadata": {},
   "outputs": [],
   "source": [
    "motorcycles = ['honda', 'yamaha', 'suzuki']"
   ]
  },
  {
   "cell_type": "code",
   "execution_count": null,
   "id": "vocational-adolescent",
   "metadata": {},
   "outputs": [],
   "source": [
    "print(motorcycles[-1])"
   ]
  },
  {
   "cell_type": "code",
   "execution_count": null,
   "id": "tutorial-palmer",
   "metadata": {},
   "outputs": [],
   "source": [
    "print(motorcycles[-2])"
   ]
  },
  {
   "cell_type": "code",
   "execution_count": null,
   "id": "hydraulic-recycling",
   "metadata": {
    "scrolled": true
   },
   "outputs": [],
   "source": [
    "print(motorcycles[-3])"
   ]
  },
  {
   "cell_type": "code",
   "execution_count": null,
   "id": "spoken-liberal",
   "metadata": {
    "scrolled": true
   },
   "outputs": [],
   "source": [
    "print(motorcycles[0])"
   ]
  },
  {
   "cell_type": "markdown",
   "id": "recovered-virgin",
   "metadata": {},
   "source": [
    "## <code>in</code>  <code>not in</code>"
   ]
  },
  {
   "cell_type": "code",
   "execution_count": null,
   "id": "fundamental-animation",
   "metadata": {},
   "outputs": [],
   "source": [
    "fruits = [\"apple\", \"orange\", \"banana\", \"cherry\"]\n",
    "\n",
    "print(\"apple\" in fruits)\n",
    "print(\"pear\" in fruits)"
   ]
  },
  {
   "cell_type": "code",
   "execution_count": null,
   "id": "sunset-berry",
   "metadata": {},
   "outputs": [],
   "source": [
    "my_list = [3, 67, \"cat\", [56, 57, \"dog\"], [ ], 3.14, False]\n",
    "\n",
    "print(3.14 in my_list)\n",
    "print([] in my_list)"
   ]
  },
  {
   "cell_type": "code",
   "execution_count": null,
   "id": "municipal-portugal",
   "metadata": {},
   "outputs": [],
   "source": [
    "my_list = [3, 67, \"cat\", [56, 57, \"dog\"], [ ], 3.14, False]\n",
    "\n",
    "print(my_list[3])\n",
    "print(57 in my_list[3])"
   ]
  },
  {
   "cell_type": "markdown",
   "id": "fresh-geneva",
   "metadata": {},
   "source": [
    "## Concatenation and Repetition"
   ]
  },
  {
   "cell_type": "code",
   "execution_count": null,
   "id": "cathedral-thought",
   "metadata": {
    "scrolled": true
   },
   "outputs": [],
   "source": [
    "print([1, 2] + [3, 4])"
   ]
  },
  {
   "cell_type": "code",
   "execution_count": null,
   "id": "social-station",
   "metadata": {},
   "outputs": [],
   "source": [
    "a_list = [1, 3, 5]\n",
    "b_list = [2, 4, 6]\n",
    "\n",
    "print(a_list + b_list)"
   ]
  },
  {
   "cell_type": "code",
   "execution_count": null,
   "id": "unknown-specification",
   "metadata": {},
   "outputs": [],
   "source": [
    "fruit = [\"apple\", \"orange\", \"banana\", \"cherry\"]\n",
    "print(fruit + [6, 7, 8, 9])"
   ]
  },
  {
   "cell_type": "code",
   "execution_count": null,
   "id": "august-asset",
   "metadata": {},
   "outputs": [],
   "source": [
    "print(['A'] * 4)"
   ]
  },
  {
   "cell_type": "code",
   "execution_count": null,
   "id": "banned-spine",
   "metadata": {},
   "outputs": [],
   "source": [
    "my_list = [1, 3, 5]\n",
    "print(my_list * 3)"
   ]
  },
  {
   "cell_type": "code",
   "execution_count": null,
   "id": "norman-graphic",
   "metadata": {},
   "outputs": [],
   "source": [
    "print([1, 2, [\"hello\", \"goodbye\"]] * 2)"
   ]
  },
  {
   "cell_type": "markdown",
   "id": "copyrighted-casting",
   "metadata": {},
   "source": [
    "## List Slices"
   ]
  },
  {
   "cell_type": "markdown",
   "id": "derived-corruption",
   "metadata": {},
   "source": [
    "The first index is the starting point for the slice and the second number is up to but not including that element. "
   ]
  },
  {
   "cell_type": "code",
   "execution_count": null,
   "id": "blind-private",
   "metadata": {},
   "outputs": [],
   "source": [
    "my_list = ['a', 'b', 'c', 'd', 'e', 'f']\n",
    "print(my_list[1:3])\n",
    "print(my_list[:4])\n",
    "print(my_list[3:])\n",
    "print(my_list[:])"
   ]
  },
  {
   "cell_type": "code",
   "execution_count": null,
   "id": "persistent-renewal",
   "metadata": {},
   "outputs": [],
   "source": [
    "my_list = [3, 67, \"cat\", [56, 57, \"dog\"], [ ], 3.14, False]\n",
    "print(my_list[4:])"
   ]
  },
  {
   "cell_type": "markdown",
   "id": "brutal-thinking",
   "metadata": {},
   "source": [
    "## Lists are Mutable"
   ]
  },
  {
   "cell_type": "code",
   "execution_count": null,
   "id": "ignored-parallel",
   "metadata": {},
   "outputs": [],
   "source": [
    "fruits = [\"banana\", \"apple\", \"cherry\"]\n",
    "print(fruits)\n",
    "\n",
    "fruits[0] = \"pear\"\n",
    "fruits[-1] = \"orange\"\n",
    "print(fruits)"
   ]
  },
  {
   "cell_type": "markdown",
   "id": "permanent-parish",
   "metadata": {},
   "source": [
    "## Combining Assignment and Indexing"
   ]
  },
  {
   "cell_type": "code",
   "execution_count": null,
   "id": "lesbian-belarus",
   "metadata": {},
   "outputs": [],
   "source": [
    "my_list = ['a', 'b', 'c', 'd', 'e', 'f']\n",
    "my_list[1:3] = 'x', 'y'\n",
    "print(my_list)"
   ]
  },
  {
   "cell_type": "code",
   "execution_count": null,
   "id": "tough-lightning",
   "metadata": {},
   "outputs": [],
   "source": [
    "my_list = ['a', 'b', 'c', 'd', 'e', 'f']\n",
    "my_list[1:3] = ['x', 'y']\n",
    "print(my_list)"
   ]
  },
  {
   "cell_type": "markdown",
   "id": "severe-james",
   "metadata": {},
   "source": [
    "## Removing Elements of a List by Assigning an Empty List to them"
   ]
  },
  {
   "cell_type": "code",
   "execution_count": null,
   "id": "spiritual-contact",
   "metadata": {},
   "outputs": [],
   "source": [
    "my_list = ['a', 'b', 'c', 'd', 'e', 'f']\n",
    "my_list[1:3] = []\n",
    "print(my_list)"
   ]
  },
  {
   "cell_type": "markdown",
   "id": "indian-runner",
   "metadata": {},
   "source": [
    "## Inserting Elements into a List by Using Slicing"
   ]
  },
  {
   "cell_type": "code",
   "execution_count": null,
   "id": "living-sydney",
   "metadata": {},
   "outputs": [],
   "source": [
    "my_list = ['a', 'd', 'f']\n",
    "my_list[1:1] = ['b', 'c']\n",
    "print(my_list)\n",
    "my_list[4:4] = ['e']\n",
    "print(my_list)"
   ]
  },
  {
   "cell_type": "markdown",
   "id": "corresponding-scientist",
   "metadata": {},
   "source": [
    "## Memory Address <code> id() </code>"
   ]
  },
  {
   "cell_type": "code",
   "execution_count": null,
   "id": "heavy-karma",
   "metadata": {},
   "outputs": [],
   "source": [
    "my_list = [4, 5, 6]\n",
    "id(my_list)"
   ]
  },
  {
   "cell_type": "code",
   "execution_count": null,
   "id": "continuing-farming",
   "metadata": {},
   "outputs": [],
   "source": [
    "a = \"banana\"\n",
    "b = \"banana\"\n",
    "\n",
    "print(a is b) # This statement is asking the question: Is a at the same memory location as b?\n",
    "\n",
    "# a and b have the same value and refer to the same object.\n",
    "print(id(a))\n",
    "print(id(b))"
   ]
  },
  {
   "cell_type": "code",
   "execution_count": null,
   "id": "regular-equity",
   "metadata": {},
   "outputs": [],
   "source": [
    "a = [81, 82, 83]\n",
    "b = [81, 82, 83]\n",
    "\n",
    "print(a is b) # This statement is asking the question: Is a at the same memory location as b?\n",
    "print(a == b) # This statement is asking the question: Does a have the same value as b?\n",
    "\n",
    "# a and b have the same value but DO NOT refer to the same object.\n",
    "print(id(a))\n",
    "print(id(b))"
   ]
  },
  {
   "cell_type": "markdown",
   "id": "surrounded-valentine",
   "metadata": {},
   "source": [
    "## Aliasing"
   ]
  },
  {
   "cell_type": "code",
   "execution_count": null,
   "id": "senior-friendship",
   "metadata": {},
   "outputs": [],
   "source": [
    "a = [81, 82, 83]\n",
    "b = [81, 82, 83]\n",
    "\n",
    "print(a == b)\n",
    "print(a is b)\n",
    "\n",
    "b = a\n",
    "print(a == b)\n",
    "print(a is b)\n",
    "\n",
    "b[0] = 5\n",
    "print(a)"
   ]
  },
  {
   "cell_type": "code",
   "execution_count": null,
   "id": "voluntary-popularity",
   "metadata": {},
   "outputs": [],
   "source": [
    "alist = [4, 2, 8, 6, 5]\n",
    "blist = alist\n",
    "blist[3] = 999\n",
    "print(alist)"
   ]
  },
  {
   "cell_type": "markdown",
   "id": "wired-trace",
   "metadata": {},
   "source": [
    "## Cloning Lists (Create a copy of a list by slicing the entire list)"
   ]
  },
  {
   "cell_type": "code",
   "execution_count": null,
   "id": "plastic-anchor",
   "metadata": {},
   "outputs": [],
   "source": [
    "a = [81, 82, 83]\n",
    "\n",
    "b = a[:]       # make a clone using slice\n",
    "print(a == b)\n",
    "print(a is b)\n",
    "\n",
    "print(a)\n",
    "print(b)\n",
    "\n",
    "# The lists will be at two different memeory locations.\n",
    "print(id(a)) \n",
    "print(id(b))"
   ]
  },
  {
   "cell_type": "markdown",
   "id": "south-europe",
   "metadata": {},
   "source": [
    "## Repetition and References"
   ]
  },
  {
   "cell_type": "code",
   "execution_count": null,
   "id": "liked-michael",
   "metadata": {},
   "outputs": [],
   "source": [
    "origlist = [45, 76, 34, 55]\n",
    "print(origlist * 3)"
   ]
  },
  {
   "cell_type": "code",
   "execution_count": null,
   "id": "amateur-greensboro",
   "metadata": {},
   "outputs": [],
   "source": [
    "print([origlist] * 3)"
   ]
  },
  {
   "cell_type": "code",
   "execution_count": null,
   "id": "supported-style",
   "metadata": {},
   "outputs": [],
   "source": [
    "origlist = [45, 76, 34, 55]\n",
    "\n",
    "newlist = [origlist] * 3\n",
    "\n",
    "print(newlist)\n",
    "\n",
    "origlist[1] = 99\n",
    "\n",
    "print(newlist)"
   ]
  },
  {
   "cell_type": "code",
   "execution_count": null,
   "id": "active-recycling",
   "metadata": {},
   "outputs": [],
   "source": [
    "a_list = [4, 2, 8, 6, 5]\n",
    "b_list = a_list * 2\n",
    "b_list[3] = 999\n",
    "print(a_list)"
   ]
  },
  {
   "cell_type": "code",
   "execution_count": null,
   "id": "qualified-evening",
   "metadata": {},
   "outputs": [],
   "source": [
    "a_list = [4, 2, 8, 6, 5]\n",
    "b_list = [a_list] * 2\n",
    "a_list[3] = 999\n",
    "print(b_list)"
   ]
  },
  {
   "cell_type": "markdown",
   "id": "temporal-frank",
   "metadata": {},
   "source": [
    "## List Methods"
   ]
  },
  {
   "cell_type": "markdown",
   "id": "parallel-sarah",
   "metadata": {},
   "source": [
    "### <code>append()</code>"
   ]
  },
  {
   "cell_type": "code",
   "execution_count": null,
   "id": "seventh-combat",
   "metadata": {},
   "outputs": [],
   "source": [
    "my_list = []\n",
    "my_list.append(5)\n",
    "my_list.append(27)\n",
    "my_list.append(3)\n",
    "my_list.append(12)\n",
    "print(my_list)"
   ]
  },
  {
   "cell_type": "markdown",
   "id": "traditional-dublin",
   "metadata": {},
   "source": [
    "### <code>reverse()</code>"
   ]
  },
  {
   "cell_type": "code",
   "execution_count": null,
   "id": "local-cloud",
   "metadata": {},
   "outputs": [],
   "source": [
    "my_list = [5, 27, 3, 12]\n",
    "my_list.reverse()\n",
    "print(my_list)"
   ]
  },
  {
   "cell_type": "markdown",
   "id": "entire-england",
   "metadata": {},
   "source": [
    "### <code>sort()</code> Changes the Original List"
   ]
  },
  {
   "cell_type": "code",
   "execution_count": null,
   "id": "nutritional-sharing",
   "metadata": {},
   "outputs": [],
   "source": [
    "my_list = [5, 27, 3, 12]\n",
    "my_list.sort()\n",
    "print(my_list)"
   ]
  },
  {
   "cell_type": "code",
   "execution_count": null,
   "id": "placed-hurricane",
   "metadata": {},
   "outputs": [],
   "source": [
    "my_list.sort(reverse = True)\n",
    "print(my_list)"
   ]
  },
  {
   "cell_type": "markdown",
   "id": "measured-print",
   "metadata": {},
   "source": [
    "### <code>sorted()</code> Does NOT Change the Original List"
   ]
  },
  {
   "cell_type": "code",
   "execution_count": null,
   "id": "capable-count",
   "metadata": {},
   "outputs": [],
   "source": [
    "cars = ['bmw', 'audi', 'toyota', 'subaru']\n",
    "print(\"Original List:\", cars)\n",
    "\n",
    "print(\"\\nSorted List:\", sorted(cars))\n",
    "\n",
    "print(\"\\nOriginal List:\", cars)"
   ]
  },
  {
   "cell_type": "markdown",
   "id": "cubic-coffee",
   "metadata": {},
   "source": [
    "### <code>remove()</code>"
   ]
  },
  {
   "cell_type": "code",
   "execution_count": null,
   "id": "cordless-builder",
   "metadata": {},
   "outputs": [],
   "source": [
    "motorcycles = ['honda', 'yamaha', 'suzuki', 'ducati']\n",
    "motorcycles.remove('ducati')\n",
    "print(motorcycles)"
   ]
  },
  {
   "cell_type": "markdown",
   "id": "geological-mauritius",
   "metadata": {},
   "source": [
    "### <code>pop()</code>"
   ]
  },
  {
   "cell_type": "code",
   "execution_count": null,
   "id": "grateful-friend",
   "metadata": {},
   "outputs": [],
   "source": [
    "motorcycles = ['honda', 'yamaha', 'suzuki']\n",
    "temp = motorcycles.pop(0)\n",
    "print(motorcycles)\n",
    "print(temp)"
   ]
  },
  {
   "cell_type": "markdown",
   "id": "binary-platinum",
   "metadata": {},
   "source": [
    "## <code>del</code>"
   ]
  },
  {
   "cell_type": "code",
   "execution_count": null,
   "id": "underlying-chess",
   "metadata": {},
   "outputs": [],
   "source": [
    "a = ['one', 'two', 'three']\n",
    "del a[1]\n",
    "print(a)"
   ]
  },
  {
   "cell_type": "markdown",
   "id": "atlantic-danger",
   "metadata": {},
   "source": [
    "### <code>insert()</code>"
   ]
  },
  {
   "cell_type": "code",
   "execution_count": null,
   "id": "removed-picking",
   "metadata": {},
   "outputs": [],
   "source": [
    "my_list = [4, 2, 8, 6, 5]\n",
    "\n",
    "my_list.insert(2, 'Apple')\n",
    "print(my_list)"
   ]
  },
  {
   "cell_type": "code",
   "execution_count": null,
   "id": "considerable-carnival",
   "metadata": {},
   "outputs": [],
   "source": [
    "my_list = [4, 2, 8, 6, 5]\n",
    "my_list.insert(0, False)\n",
    "print(my_list)"
   ]
  },
  {
   "cell_type": "markdown",
   "id": "other-guide",
   "metadata": {},
   "source": [
    "## <code>for</code> Loops <code>range()</code> Function and Lists"
   ]
  },
  {
   "cell_type": "code",
   "execution_count": null,
   "id": "coordinate-proposal",
   "metadata": {},
   "outputs": [],
   "source": [
    "fruits = [\"apple\", \"orange\", \"banana\", \"cherry\"]\n",
    "\n",
    "for fruit in fruits:     # by item\n",
    "    print(fruit)"
   ]
  },
  {
   "cell_type": "code",
   "execution_count": null,
   "id": "stuffed-pacific",
   "metadata": {},
   "outputs": [],
   "source": [
    "# Prints elements of a list on the same line.\n",
    "fruits = [\"apple\", \"orange\", \"banana\", \"cherry\"]\n",
    "print(*fruits)"
   ]
  },
  {
   "cell_type": "code",
   "execution_count": null,
   "id": "korean-sunday",
   "metadata": {},
   "outputs": [],
   "source": [
    "fruits = [\"apple\", \"orange\", \"banana\", \"cherry\"]\n",
    "\n",
    "for index in range(4):     # by index\n",
    "    print(fruits[index])"
   ]
  },
  {
   "cell_type": "code",
   "execution_count": null,
   "id": "presidential-thread",
   "metadata": {},
   "outputs": [],
   "source": [
    "fruits = [\"apple\", \"orange\", \"banana\", \"cherry\"]\n",
    "\n",
    "for index in range(0, 4):     # by index\n",
    "    print(fruits[index])"
   ]
  },
  {
   "cell_type": "code",
   "execution_count": null,
   "id": "played-klein",
   "metadata": {},
   "outputs": [],
   "source": [
    "fruits = [\"apple\", \"orange\", \"banana\", \"cherry\"]\n",
    "\n",
    "for index in range(len(fruits)):     # by index\n",
    "    print(fruits[index])"
   ]
  },
  {
   "cell_type": "markdown",
   "id": "parallel-salem",
   "metadata": {},
   "source": [
    "### Example Sources: \n",
    "How to Think Like a Computer Scientist: https://runestone.academy/runestone/books/published/thinkcspy/index.html <br>\n",
    "Python Crash Course: https://nostarch.com/pythoncrashcourse2e"
   ]
  }
 ],
 "metadata": {
  "kernelspec": {
   "display_name": "Python 3",
   "language": "python",
   "name": "python3"
  },
  "language_info": {
   "codemirror_mode": {
    "name": "ipython",
    "version": 3
   },
   "file_extension": ".py",
   "mimetype": "text/x-python",
   "name": "python",
   "nbconvert_exporter": "python",
   "pygments_lexer": "ipython3",
   "version": "3.9.2"
  }
 },
 "nbformat": 4,
 "nbformat_minor": 5
}
