{
 "cells": [
  {
   "cell_type": "markdown",
   "id": "saving-guidance",
   "metadata": {},
   "source": [
    "# <center> Sprint 3</center>"
   ]
  },
  {
   "cell_type": "markdown",
   "id": "practical-broadcast",
   "metadata": {},
   "source": [
    "<b>Topics</b> <br>\n",
    "1. Check-in / Questions<br>\n",
    "2. Functions<br>\n",
    "3. Sequential Code<br>\n",
    "4. Conditional Code: if, elif, else<br>\n",
    "5. for Loops<br>\n",
    "6. while Loops<br>\n",
    "7. break and continue<br>\n",
    "8. Introduction to Scope<br>\n",
    "9. More on the print function<br>\n",
    "10. Breaking a line of code<br>\n",
    "11. Function and Conditional Code -- An example<br>"
   ]
  },
  {
   "cell_type": "markdown",
   "id": "nervous-marker",
   "metadata": {},
   "source": [
    "## Functions"
   ]
  },
  {
   "cell_type": "code",
   "execution_count": null,
   "id": "floral-packet",
   "metadata": {},
   "outputs": [],
   "source": [
    "def my_function():\n",
    "    print('This function print this sentence only.')\n",
    "\n",
    "my_function()"
   ]
  },
  {
   "cell_type": "code",
   "execution_count": null,
   "id": "several-compilation",
   "metadata": {},
   "outputs": [],
   "source": [
    "def my_function(x, y):\n",
    "    print(x + y)\n",
    "\n",
    "my_function(2, 3)"
   ]
  },
  {
   "cell_type": "code",
   "execution_count": null,
   "id": "quiet-queens",
   "metadata": {},
   "outputs": [],
   "source": [
    "def my_function(x, y):\n",
    "    return (x + y)\n",
    "\n",
    "result = my_function(2, 3)\n",
    "print(result)"
   ]
  },
  {
   "cell_type": "code",
   "execution_count": null,
   "id": "departmental-completion",
   "metadata": {},
   "outputs": [],
   "source": [
    "def my_function(x, y):\n",
    "    return (x + y)\n",
    "\n",
    "print(my_function(2, 3))"
   ]
  },
  {
   "cell_type": "code",
   "execution_count": null,
   "id": "laughing-refrigerator",
   "metadata": {},
   "outputs": [],
   "source": [
    "def my_function(x, y):\n",
    "    return (x + y), (x - y)\n",
    "\n",
    "res_1, res_2 = my_function(2, 3)\n",
    "\n",
    "print(res_1)\n",
    "print(res_2)"
   ]
  },
  {
   "cell_type": "markdown",
   "id": "liberal-celebration",
   "metadata": {},
   "source": [
    "<code>pass</code> acts as a placeholder for code that could come after an indentation."
   ]
  },
  {
   "cell_type": "code",
   "execution_count": null,
   "id": "confused-compilation",
   "metadata": {},
   "outputs": [],
   "source": [
    "def my_function():\n",
    "    pass"
   ]
  },
  {
   "cell_type": "markdown",
   "id": "strange-reservation",
   "metadata": {},
   "source": [
    "## Sequential Code"
   ]
  },
  {
   "cell_type": "code",
   "execution_count": 1,
   "id": "rocky-enlargement",
   "metadata": {},
   "outputs": [
    {
     "name": "stdout",
     "output_type": "stream",
     "text": [
      "313\n"
     ]
    }
   ],
   "source": [
    "# This is an example of a sequential code.\n",
    "\n",
    "x = 12\n",
    "y = 31\n",
    "\n",
    "z = x + x * y - 71\n",
    "\n",
    "\n",
    "print(z)\n"
   ]
  },
  {
   "cell_type": "markdown",
   "id": "hindu-formation",
   "metadata": {},
   "source": [
    "## Conditional Code"
   ]
  },
  {
   "cell_type": "code",
   "execution_count": 3,
   "id": "characteristic-jones",
   "metadata": {},
   "outputs": [
    {
     "name": "stdout",
     "output_type": "stream",
     "text": [
      "First condition is True.\n"
     ]
    }
   ],
   "source": [
    "# This is an example of conditional code.\n",
    "\n",
    "x = 31\n",
    "y = 12\n",
    "\n",
    "if x > y:\n",
    "    z = 'First condition is True.'\n",
    "else:\n",
    "    z = 'Second condition is True.'\n",
    "\n",
    "print(z)\n"
   ]
  },
  {
   "cell_type": "markdown",
   "id": "broke-metabolism",
   "metadata": {},
   "source": [
    "## Conditional Statements: <code> if elif else </code>"
   ]
  },
  {
   "cell_type": "markdown",
   "id": "noble-manhattan",
   "metadata": {},
   "source": [
    "## Indentation and Conditionals"
   ]
  },
  {
   "cell_type": "code",
   "execution_count": 4,
   "id": "moral-sailing",
   "metadata": {},
   "outputs": [
    {
     "name": "stdout",
     "output_type": "stream",
     "text": [
      "This line is not indented.\n"
     ]
    }
   ],
   "source": [
    "x = 2\n",
    "y = 3\n",
    "\n",
    "if x > y:\n",
    "    print('x is greater than y.')\n",
    "\n",
    "print('This line is not indented.')"
   ]
  },
  {
   "cell_type": "code",
   "execution_count": 5,
   "id": "close-attention",
   "metadata": {},
   "outputs": [
    {
     "name": "stdout",
     "output_type": "stream",
     "text": [
      "x is greater than y.\n",
      "This line is not indented.\n"
     ]
    }
   ],
   "source": [
    "x = 3\n",
    "y = 2\n",
    "\n",
    "if x > y:\n",
    "    print('x is greater than y.')\n",
    "\n",
    "print('This line is not indented.')"
   ]
  },
  {
   "cell_type": "markdown",
   "id": "distributed-handy",
   "metadata": {},
   "source": [
    "### <code>if</code> Statement"
   ]
  },
  {
   "cell_type": "code",
   "execution_count": 6,
   "id": "clean-shopping",
   "metadata": {},
   "outputs": [
    {
     "name": "stdout",
     "output_type": "stream",
     "text": [
      "2 equals 2.\n"
     ]
    }
   ],
   "source": [
    "x = 2\n",
    "y = 3\n",
    "z = 4\n",
    "\n",
    "if x == 2:\n",
    "    print(f'{x} equals 2.')"
   ]
  },
  {
   "cell_type": "markdown",
   "id": "judicial-status",
   "metadata": {},
   "source": [
    "### <code>if else</code> Statements"
   ]
  },
  {
   "cell_type": "code",
   "execution_count": 7,
   "id": "challenging-addition",
   "metadata": {},
   "outputs": [
    {
     "name": "stdout",
     "output_type": "stream",
     "text": [
      "2 does not equal to 5.\n"
     ]
    }
   ],
   "source": [
    "x = 2\n",
    "y = 3\n",
    "z = 4\n",
    "\n",
    "if x == 5:\n",
    "    print(f'{x} equals 5.')\n",
    "else:\n",
    "    print(f'{x} does not equal to 5.')"
   ]
  },
  {
   "cell_type": "markdown",
   "id": "three-township",
   "metadata": {},
   "source": [
    "### <code>if if</code> Statements"
   ]
  },
  {
   "cell_type": "code",
   "execution_count": 9,
   "id": "occupied-access",
   "metadata": {},
   "outputs": [
    {
     "name": "stdout",
     "output_type": "stream",
     "text": [
      "2 equals 2.\n",
      "3 equals 3.\n",
      "4 equals 4.\n"
     ]
    }
   ],
   "source": [
    "x = 2\n",
    "y = 3\n",
    "z = 4\n",
    "\n",
    "if x == 2:\n",
    "    print(f'{x} equals 2.')\n",
    "    \n",
    "if y == 3:\n",
    "    print(f'{y} equals 3.')\n",
    "    \n",
    "if z == 4:\n",
    "    print(f'{z} equals 4.')"
   ]
  },
  {
   "cell_type": "markdown",
   "id": "operational-newfoundland",
   "metadata": {},
   "source": [
    "### <code>if elif</code> Statements"
   ]
  },
  {
   "cell_type": "code",
   "execution_count": 10,
   "id": "intended-hours",
   "metadata": {},
   "outputs": [
    {
     "name": "stdout",
     "output_type": "stream",
     "text": [
      "2 equals 2.\n"
     ]
    }
   ],
   "source": [
    "x = 2\n",
    "y = 3\n",
    "z = 4\n",
    "\n",
    "if x == 2:\n",
    "    print(f'{x} equals 2.')\n",
    "elif y == 3:\n",
    "    print(f'{y} equals 3.')\n",
    "elif z == 4:\n",
    "    print(f'{z} equals 4.')"
   ]
  },
  {
   "cell_type": "markdown",
   "id": "backed-buffalo",
   "metadata": {},
   "source": [
    "### <code>if elif else</code> Statements"
   ]
  },
  {
   "cell_type": "code",
   "execution_count": 11,
   "id": "active-oracle",
   "metadata": {},
   "outputs": [
    {
     "name": "stdout",
     "output_type": "stream",
     "text": [
      "Something else.\n"
     ]
    }
   ],
   "source": [
    "x = 2\n",
    "y = 3\n",
    "z = 4\n",
    "\n",
    "\n",
    "if x == 4:\n",
    "    print(f'{x} equals 2.')\n",
    "elif y == 6:\n",
    "    print(f'{y} equals 3.')\n",
    "elif z == 7:\n",
    "    print(f'{z} equals 4.')\n",
    "else:\n",
    "    print('Something else.')"
   ]
  },
  {
   "cell_type": "markdown",
   "id": "promotional-chair",
   "metadata": {},
   "source": [
    "## Nested Conditionals"
   ]
  },
  {
   "cell_type": "code",
   "execution_count": null,
   "id": "shaped-princess",
   "metadata": {
    "scrolled": true
   },
   "outputs": [],
   "source": [
    "x = 3\n",
    "y = 2\n",
    "z = 1\n",
    "\n",
    "if x < y:\n",
    "    print('x is less than y.')\n",
    "    \n",
    "    # This statement is True but will not be executed because the previous if statement is False.\n",
    "    if x > z:\n",
    "        print('x is less than z')\n",
    "              \n",
    "print('This line is not part of the if statements.')           "
   ]
  },
  {
   "cell_type": "code",
   "execution_count": null,
   "id": "underlying-christmas",
   "metadata": {},
   "outputs": [],
   "source": [
    "x = 3\n",
    "y = 2\n",
    "z = 1\n",
    "\n",
    "if x > y:\n",
    "    print('x is greater than y.')\n",
    "    \n",
    "    # This statement is True and will be executed because the previous if statement is True.\n",
    "    if x > z:\n",
    "        print('x is greater than z.')\n",
    "              \n",
    "print('This line is not part of the if statements.')    "
   ]
  },
  {
   "cell_type": "markdown",
   "id": "wrong-bridal",
   "metadata": {},
   "source": [
    "## Order Matters"
   ]
  },
  {
   "cell_type": "code",
   "execution_count": null,
   "id": "negative-auditor",
   "metadata": {},
   "outputs": [],
   "source": [
    "x = 2\n",
    "y = 3\n",
    "z = 4\n",
    "\n",
    "if x == 5:\n",
    "    print(x)\n",
    "if y == 3:\n",
    "    print(y)\n",
    "\n",
    "# else responds to the if just before it, NOT to any other if statement.\n",
    "else:\n",
    "    print('Something else.')"
   ]
  },
  {
   "cell_type": "code",
   "execution_count": null,
   "id": "tough-ministry",
   "metadata": {},
   "outputs": [],
   "source": [
    "x = 2\n",
    "y = 3\n",
    "z = 4\n",
    "\n",
    "if x == 5:\n",
    "    print(x)\n",
    "if y == 5:\n",
    "    print(y)\n",
    "\n",
    "# else responds to the if just before it, NOT to any other if statement.\n",
    "else:\n",
    "    print('Something else.')"
   ]
  },
  {
   "cell_type": "markdown",
   "id": "located-implementation",
   "metadata": {},
   "source": [
    "## Repeating Code (<code>for</code> loop)"
   ]
  },
  {
   "cell_type": "code",
   "execution_count": 12,
   "id": "removed-incidence",
   "metadata": {},
   "outputs": [
    {
     "name": "stdout",
     "output_type": "stream",
     "text": [
      "This is loop number 0\n",
      "This is loop number 1\n",
      "This is loop number 2\n"
     ]
    }
   ],
   "source": [
    "# This is an example of a for loop.\n",
    "\n",
    "for x in range(0, 3):\n",
    "    print('This is loop number', x)\n"
   ]
  },
  {
   "cell_type": "code",
   "execution_count": 13,
   "id": "satisfied-privilege",
   "metadata": {},
   "outputs": [
    {
     "name": "stdout",
     "output_type": "stream",
     "text": [
      "1\n",
      "2\n",
      "3\n",
      "4\n",
      "5\n",
      "6\n",
      "7\n",
      "8\n",
      "9\n",
      "10\n"
     ]
    }
   ],
   "source": [
    "for number in range(1, 11):\n",
    "    print(number)"
   ]
  },
  {
   "cell_type": "code",
   "execution_count": 14,
   "id": "active-edmonton",
   "metadata": {},
   "outputs": [
    {
     "name": "stdout",
     "output_type": "stream",
     "text": [
      "apple\n",
      "banana\n",
      "cherry\n"
     ]
    }
   ],
   "source": [
    "fruits = ['apple', 'banana', 'cherry']\n",
    "\n",
    "for fruit in fruits:\n",
    "  print(fruit)"
   ]
  },
  {
   "cell_type": "markdown",
   "id": "soviet-twins",
   "metadata": {},
   "source": [
    "## Repeating Code (<code>while</code> loop)"
   ]
  },
  {
   "cell_type": "code",
   "execution_count": 15,
   "id": "heard-sitting",
   "metadata": {},
   "outputs": [
    {
     "name": "stdout",
     "output_type": "stream",
     "text": [
      "0\n",
      "1\n",
      "2\n"
     ]
    }
   ],
   "source": [
    "# Anything that can be done with a for loop can be done with a while loop. \n",
    "\n",
    "#This is an example of a while loop.\n",
    "\n",
    "x = 0\n",
    "\n",
    "while x < 3:\n",
    "    print(x)\n",
    "    x = x + 1"
   ]
  },
  {
   "cell_type": "code",
   "execution_count": 16,
   "id": "enabling-participation",
   "metadata": {},
   "outputs": [
    {
     "name": "stdout",
     "output_type": "stream",
     "text": [
      "1\n",
      "2\n",
      "3\n",
      "4\n",
      "5\n"
     ]
    }
   ],
   "source": [
    "i = 1\n",
    "\n",
    "while i < 6:\n",
    "    print(i)\n",
    "    i += 1"
   ]
  },
  {
   "cell_type": "code",
   "execution_count": 17,
   "id": "absolute-education",
   "metadata": {},
   "outputs": [
    {
     "name": "stdout",
     "output_type": "stream",
     "text": [
      "2\n",
      "3\n",
      "4\n",
      "5\n",
      "6\n"
     ]
    }
   ],
   "source": [
    "i = 1\n",
    "\n",
    "while i < 6:\n",
    "    i += 1\n",
    "    print(i)"
   ]
  },
  {
   "cell_type": "markdown",
   "id": "crude-metallic",
   "metadata": {},
   "source": [
    "## Another while loop"
   ]
  },
  {
   "cell_type": "code",
   "execution_count": null,
   "id": "graphic-azerbaijan",
   "metadata": {},
   "outputs": [
    {
     "name": "stdout",
     "output_type": "stream",
     "text": [
      "\n",
      "Guess the number I am thinking of.\n",
      "The number is between 1 and 10.\n",
      "You get three tries.\n",
      "\n",
      "3\n",
      "First try\n",
      "Too low!\n",
      "\n",
      "6\n",
      "Second try\n",
      "Too low!\n",
      "\n",
      "8\n",
      "Third try\n",
      "Too low!\n",
      "\n",
      "The number was 10\n",
      "\n",
      "Would you like to play again?\n",
      "\n",
      "input Y for Yes and N for No.\n",
      "Y\n",
      "Great!\n",
      "\n",
      "Guess the number I am thinking of.\n",
      "The number is between 1 and 10.\n",
      "You get three tries.\n",
      "\n",
      "4\n",
      "First try\n",
      "Too low!\n",
      "\n",
      "7\n",
      "Second try\n",
      "Too low!\n",
      "\n",
      "9\n",
      "Third try\n",
      "Good job!\n",
      "\n",
      "The number was 9\n",
      "\n",
      "Would you like to play again?\n",
      "\n",
      "input Y for Yes and N for No.\n",
      "N\n",
      "See you soon!\n",
      "\n",
      "Guess the number I am thinking of.\n",
      "The number is between 1 and 10.\n",
      "You get three tries.\n",
      "\n"
     ]
    }
   ],
   "source": [
    "# This is an example of a while loop.\n",
    "\n",
    "while True:\n",
    "\n",
    "    from random import randint\n",
    "    num = randint(1, 10)\n",
    "\n",
    "    print (\"\\nGuess the number I am thinking of.\")\n",
    "    print (\"The number is between 1 and 10.\")\n",
    "    print (\"You get three tries.\\n\")\n",
    "\n",
    "    i = 0\n",
    "\n",
    "    while i < 3:\n",
    "\n",
    "        guess = int(input ())\n",
    "\n",
    "        if i == 0:\n",
    "            print (\"First try\")\n",
    "        elif i == 1:\n",
    "            print (\"Second try\")\n",
    "        elif i == 2:\n",
    "            print (\"Third try\")\n",
    "\n",
    "        if guess < num:\n",
    "            print (\"Too low!\\n\")\n",
    "        elif guess > num:\n",
    "            print (\"Too high!\\n\")\n",
    "        elif guess == num:\n",
    "            print (\"Good job!\\n\")\n",
    "            break\n",
    "\n",
    "        i = i + 1\n",
    "\n",
    "    message = \"The number was \" + str(num)\n",
    "    print (message)\n",
    "\n",
    "    print (\"\\nWould you like to play again?\")\n",
    "    print (\"\\ninput Y for Yes and N for No.\")\n",
    "\n",
    "    y = input ()\n",
    "    if y == str (\"Y\"):\n",
    "        print (\"Great!\")\n",
    "        continue\n",
    "\n",
    "    elif y == str (\"N\"):\n",
    "        print (\"See you soon!\")\n",
    "        exit ()"
   ]
  },
  {
   "cell_type": "markdown",
   "id": "thousand-screening",
   "metadata": {},
   "source": [
    "## <code>break</code> and <code>continue</code> "
   ]
  },
  {
   "cell_type": "markdown",
   "id": "later-reflection",
   "metadata": {},
   "source": [
    "<code>break</code> stops the remainder of the code within the loop from executing."
   ]
  },
  {
   "cell_type": "code",
   "execution_count": 1,
   "id": "emerging-consolidation",
   "metadata": {},
   "outputs": [
    {
     "name": "stdout",
     "output_type": "stream",
     "text": [
      "1\n",
      "2\n",
      "3\n",
      "break leaves the loop and executes the next line after the loop.\n"
     ]
    }
   ],
   "source": [
    "i = 1\n",
    "\n",
    "while i < 6:\n",
    "    print(i)\n",
    "    if i == 3:\n",
    "        break\n",
    "    i += 1\n",
    "print('break leaves the loop and executes the next line after the loop.')"
   ]
  },
  {
   "cell_type": "code",
   "execution_count": null,
   "id": "statewide-escape",
   "metadata": {},
   "outputs": [],
   "source": [
    "i = 1\n",
    "\n",
    "while i < 6:\n",
    "    if i == 3:\n",
    "        break\n",
    "    print(i)\n",
    "    i += 1\n",
    "print('break leaves the loop and executes the next line after the loop.')"
   ]
  },
  {
   "cell_type": "markdown",
   "id": "spoken-israeli",
   "metadata": {},
   "source": [
    "<code>continue</code> stops the remainder of the code within the loop from executing and jumps to the top of the loop for the next iteration. "
   ]
  },
  {
   "cell_type": "code",
   "execution_count": 2,
   "id": "focused-friday",
   "metadata": {},
   "outputs": [
    {
     "name": "stdout",
     "output_type": "stream",
     "text": [
      "1\n",
      "2\n",
      "4\n",
      "5\n",
      "6\n"
     ]
    }
   ],
   "source": [
    "i = 0\n",
    "while i < 6:\n",
    "    i += 1\n",
    "    if i == 3:\n",
    "        continue\n",
    "    print(i)"
   ]
  },
  {
   "cell_type": "code",
   "execution_count": null,
   "id": "polish-roulette",
   "metadata": {},
   "outputs": [],
   "source": [
    "i = 0\n",
    "while i < 6:\n",
    "    if i == 3:\n",
    "        continue\n",
    "    print(i)\n",
    "    i += 1"
   ]
  },
  {
   "cell_type": "markdown",
   "id": "unique-robinson",
   "metadata": {},
   "source": [
    "## Introduction to Scope"
   ]
  },
  {
   "cell_type": "code",
   "execution_count": null,
   "id": "worth-relevance",
   "metadata": {},
   "outputs": [],
   "source": [
    "x = 2\n",
    "y = 3\n",
    "\n",
    "\n",
    "if x > y:\n",
    "    result = 'Greater'    \n",
    "   \n",
    "print(result) "
   ]
  },
  {
   "cell_type": "code",
   "execution_count": null,
   "id": "surface-stack",
   "metadata": {},
   "outputs": [],
   "source": [
    "x = 2\n",
    "y = 3\n",
    "\n",
    "result = ''\n",
    "\n",
    "if x > y:\n",
    "    result = 'Greater'  \n",
    "    \n",
    "   \n",
    "print(result)"
   ]
  },
  {
   "cell_type": "markdown",
   "id": "fourth-marking",
   "metadata": {},
   "source": [
    "## More on the print function"
   ]
  },
  {
   "cell_type": "raw",
   "id": "welsh-patrick",
   "metadata": {},
   "source": [
    "x = 2\n",
    "y = 3"
   ]
  },
  {
   "cell_type": "code",
   "execution_count": null,
   "id": "reduced-morgan",
   "metadata": {},
   "outputs": [],
   "source": [
    "if x < y:\n",
    "    print(x + 'is less than' + y + '.')"
   ]
  },
  {
   "cell_type": "code",
   "execution_count": null,
   "id": "attended-sunset",
   "metadata": {},
   "outputs": [],
   "source": [
    "if x < y:\n",
    "    print(x, 'is less than', y, '.') # An extra space is created before the period at the end."
   ]
  },
  {
   "cell_type": "code",
   "execution_count": null,
   "id": "superior-afghanistan",
   "metadata": {},
   "outputs": [],
   "source": [
    "if x < y:\n",
    "    print('{} is less than {}.'.format(x, y)) # This is the format strings method."
   ]
  },
  {
   "cell_type": "code",
   "execution_count": null,
   "id": "applied-therapy",
   "metadata": {},
   "outputs": [],
   "source": [
    "if x < y:\n",
    "    print(f'{x} is less than {y}.') # This is the f strings method."
   ]
  },
  {
   "cell_type": "markdown",
   "id": "meaningful-cooper",
   "metadata": {},
   "source": [
    "### An easy way to print items of a list"
   ]
  },
  {
   "cell_type": "code",
   "execution_count": null,
   "id": "employed-hardware",
   "metadata": {},
   "outputs": [],
   "source": [
    "fruits = ['apple', 'banana', 'cherry']\n",
    "\n",
    "print(*fruits)"
   ]
  },
  {
   "cell_type": "markdown",
   "id": "prostate-certificate",
   "metadata": {},
   "source": [
    "## Breaking a line of code"
   ]
  },
  {
   "cell_type": "markdown",
   "id": "ranging-sitting",
   "metadata": {},
   "source": [
    "Place a back slash at the end of the line."
   ]
  },
  {
   "cell_type": "code",
   "execution_count": null,
   "id": "hungry-difference",
   "metadata": {},
   "outputs": [],
   "source": [
    "print('This is an interesting class. We are learning a lot and \\\n",
    "we are learning intensely.')"
   ]
  },
  {
   "cell_type": "markdown",
   "id": "million-petroleum",
   "metadata": {},
   "source": [
    "Go to the next line after the comma.This will work for lists, dictionaries, and other data types that separate items by commas."
   ]
  },
  {
   "cell_type": "code",
   "execution_count": null,
   "id": "promotional-limit",
   "metadata": {},
   "outputs": [],
   "source": [
    "fruits = ['apple',\n",
    "          'banana',\n",
    "         'cherry',\n",
    "         'orange']\n",
    "\n",
    "print(fruits)"
   ]
  },
  {
   "cell_type": "markdown",
   "id": "searching-commerce",
   "metadata": {},
   "source": [
    "## Function and Conditional Code -- An example"
   ]
  },
  {
   "cell_type": "code",
   "execution_count": null,
   "id": "flying-revolution",
   "metadata": {},
   "outputs": [],
   "source": [
    "def rain_bow_colors():\n",
    "    color = input (\"First letter of rainbow color: \")\n",
    "    if color == \"R\":\n",
    "        print (\"Red\")\n",
    "    elif color == \"O\":\n",
    "        print (\"Orange\")\n",
    "    elif color == \"Y\":\n",
    "        print (\"Yellow\")\n",
    "    elif color == \"G\":\n",
    "        print (\"Green\")\n",
    "    elif color == \"B\":\n",
    "        print (\"Blue\")\n",
    "    else:\n",
    "        print (\"No Match\")\n",
    "\n",
    "rain_bow_colors()"
   ]
  }
 ],
 "metadata": {
  "kernelspec": {
   "display_name": "Python 3",
   "language": "python",
   "name": "python3"
  },
  "language_info": {
   "codemirror_mode": {
    "name": "ipython",
    "version": 3
   },
   "file_extension": ".py",
   "mimetype": "text/x-python",
   "name": "python",
   "nbconvert_exporter": "python",
   "pygments_lexer": "ipython3",
   "version": "3.9.2"
  }
 },
 "nbformat": 4,
 "nbformat_minor": 5
}
