{
 "cells": [
  {
   "cell_type": "markdown",
   "id": "cubic-february",
   "metadata": {},
   "source": [
    "# Types of Errors in Python"
   ]
  },
  {
   "cell_type": "markdown",
   "id": "compatible-wells",
   "metadata": {},
   "source": [
    "## Name Error: The computer encounters a name that does not exist."
   ]
  },
  {
   "cell_type": "code",
   "execution_count": null,
   "id": "martial-heather",
   "metadata": {},
   "outputs": [],
   "source": [
    "a = 1\n",
    "b = 2\n",
    "c = 3\n",
    "d = 4"
   ]
  },
  {
   "cell_type": "code",
   "execution_count": null,
   "id": "diverse-scanner",
   "metadata": {},
   "outputs": [],
   "source": [
    "print(a + b + c + d)"
   ]
  },
  {
   "cell_type": "code",
   "execution_count": null,
   "id": "foster-breakdown",
   "metadata": {},
   "outputs": [],
   "source": [
    "print(a + b + c + d + e)"
   ]
  },
  {
   "cell_type": "markdown",
   "id": "spread-angola",
   "metadata": {},
   "source": [
    "## Type Error: What you want to do will not work on this type of object."
   ]
  },
  {
   "cell_type": "code",
   "execution_count": null,
   "id": "expensive-soldier",
   "metadata": {},
   "outputs": [],
   "source": [
    "print(len('Hello World'))"
   ]
  },
  {
   "cell_type": "code",
   "execution_count": null,
   "id": "chronic-poster",
   "metadata": {},
   "outputs": [],
   "source": [
    "print(len(5))"
   ]
  },
  {
   "cell_type": "code",
   "execution_count": null,
   "id": "expired-russia",
   "metadata": {},
   "outputs": [],
   "source": [
    "len(str(1000))"
   ]
  },
  {
   "cell_type": "code",
   "execution_count": null,
   "id": "concerned-charles",
   "metadata": {},
   "outputs": [],
   "source": [
    "len('1000')"
   ]
  },
  {
   "cell_type": "markdown",
   "id": "disabled-theory",
   "metadata": {},
   "source": [
    "## Attribute Error: What you want to do will not work on this type of object."
   ]
  },
  {
   "cell_type": "code",
   "execution_count": null,
   "id": "confused-symbol",
   "metadata": {},
   "outputs": [],
   "source": [
    "a = 'Hello World'\n",
    "b = 5"
   ]
  },
  {
   "cell_type": "code",
   "execution_count": null,
   "id": "beginning-community",
   "metadata": {},
   "outputs": [],
   "source": [
    "print(a.endswith('d'))"
   ]
  },
  {
   "cell_type": "code",
   "execution_count": null,
   "id": "moved-advantage",
   "metadata": {},
   "outputs": [],
   "source": [
    "print(b.endswith('d'))"
   ]
  },
  {
   "cell_type": "markdown",
   "id": "certified-horizontal",
   "metadata": {},
   "source": [
    "## Syntax Error: Error in the way you used the language (like grammatical errors in writing)."
   ]
  },
  {
   "cell_type": "code",
   "execution_count": null,
   "id": "herbal-worry",
   "metadata": {},
   "outputs": [],
   "source": [
    "print(5)"
   ]
  },
  {
   "cell_type": "code",
   "execution_count": null,
   "id": "emotional-chamber",
   "metadata": {},
   "outputs": [],
   "source": [
    "print 5"
   ]
  }
 ],
 "metadata": {
  "kernelspec": {
   "display_name": "Python 3",
   "language": "python",
   "name": "python3"
  },
  "language_info": {
   "codemirror_mode": {
    "name": "ipython",
    "version": 3
   },
   "file_extension": ".py",
   "mimetype": "text/x-python",
   "name": "python",
   "nbconvert_exporter": "python",
   "pygments_lexer": "ipython3",
   "version": "3.9.2"
  }
 },
 "nbformat": 4,
 "nbformat_minor": 5
}
