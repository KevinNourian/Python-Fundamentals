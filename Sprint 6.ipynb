{
 "cells": [
  {
   "cell_type": "markdown",
   "id": "saving-guidance",
   "metadata": {},
   "source": [
    "# <center> Sprint 6</center>"
   ]
  },
  {
   "cell_type": "markdown",
   "id": "exciting-happiness",
   "metadata": {},
   "source": [
    "## Declare Strings Using Quotations Marks"
   ]
  },
  {
   "cell_type": "code",
   "execution_count": null,
   "id": "civilian-sacrifice",
   "metadata": {},
   "outputs": [],
   "source": [
    "# You can use single quotes to declare a string.\n",
    "'This is a string.'"
   ]
  },
  {
   "cell_type": "code",
   "execution_count": null,
   "id": "catholic-leonard",
   "metadata": {},
   "outputs": [],
   "source": [
    "# You can use double quotes to declare a string.\n",
    "\"This is also a string.\""
   ]
  },
  {
   "cell_type": "code",
   "execution_count": null,
   "id": "double-percentage",
   "metadata": {},
   "outputs": [],
   "source": [
    "# This is what happens if your string has quotation marks.\n",
    "'This'll give a syntax error. Do you know why?'"
   ]
  },
  {
   "cell_type": "code",
   "execution_count": null,
   "id": "quiet-stanley",
   "metadata": {
    "scrolled": true
   },
   "outputs": [],
   "source": [
    "# This is how to fix it.\n",
    "\"This'll not give an error. Do you know why?\""
   ]
  },
  {
   "cell_type": "markdown",
   "id": "aerial-punishment",
   "metadata": {},
   "source": [
    "## Use the <code>print()</code> Function to Print a String"
   ]
  },
  {
   "cell_type": "code",
   "execution_count": null,
   "id": "american-breach",
   "metadata": {},
   "outputs": [],
   "source": [
    "print('Hello World!')"
   ]
  },
  {
   "cell_type": "code",
   "execution_count": null,
   "id": "designing-collar",
   "metadata": {},
   "outputs": [],
   "source": [
    "print('Hello World!')\n",
    "print('This is Python')"
   ]
  },
  {
   "cell_type": "code",
   "execution_count": null,
   "id": "short-rings",
   "metadata": {},
   "outputs": [],
   "source": [
    "print('Hello World!\\n')\n",
    "print('This is Python')"
   ]
  },
  {
   "cell_type": "code",
   "execution_count": null,
   "id": "bright-dividend",
   "metadata": {},
   "outputs": [],
   "source": [
    "print('\\n')"
   ]
  },
  {
   "cell_type": "code",
   "execution_count": null,
   "id": "expected-tonight",
   "metadata": {},
   "outputs": [],
   "source": [
    "print('Hello World!')\n",
    "print('\\tThis is Python')"
   ]
  },
  {
   "cell_type": "markdown",
   "id": "focused-barbados",
   "metadata": {},
   "source": [
    "## Print a String Multiple Times"
   ]
  },
  {
   "cell_type": "code",
   "execution_count": null,
   "id": "waiting-auction",
   "metadata": {},
   "outputs": [],
   "source": [
    "text = 'I love my dog. '\n",
    "print(text*15)"
   ]
  },
  {
   "cell_type": "code",
   "execution_count": null,
   "id": "canadian-alfred",
   "metadata": {},
   "outputs": [],
   "source": [
    "my_string = 'hello world'\n",
    "print(my_string)"
   ]
  },
  {
   "cell_type": "markdown",
   "id": "light-extent",
   "metadata": {},
   "source": [
    "## String Concatenation (attaching in sequence)"
   ]
  },
  {
   "cell_type": "code",
   "execution_count": null,
   "id": "arbitrary-liability",
   "metadata": {},
   "outputs": [],
   "source": [
    "print('Hello World. ' + 'I love Python.')"
   ]
  },
  {
   "cell_type": "code",
   "execution_count": null,
   "id": "difficult-neighbor",
   "metadata": {},
   "outputs": [],
   "source": [
    "print('Hello World.' + ' ' + 'I love Python.')"
   ]
  },
  {
   "cell_type": "code",
   "execution_count": null,
   "id": "treated-tulsa",
   "metadata": {},
   "outputs": [],
   "source": [
    "print('Hello World. ' 'I love Python.')"
   ]
  },
  {
   "cell_type": "markdown",
   "id": "neural-volleyball",
   "metadata": {},
   "source": [
    "## More on the <code>Print()</code> function"
   ]
  },
  {
   "cell_type": "code",
   "execution_count": null,
   "id": "aboriginal-blowing",
   "metadata": {},
   "outputs": [],
   "source": [
    "print('2 ' + 'is less than ' + '3' + '.')"
   ]
  },
  {
   "cell_type": "markdown",
   "id": "funded-invention",
   "metadata": {},
   "source": [
    "## Combinng Data Types in the <code>Print()</code> Function"
   ]
  },
  {
   "cell_type": "code",
   "execution_count": null,
   "id": "religious-return",
   "metadata": {
    "scrolled": false
   },
   "outputs": [],
   "source": [
    "# This code will give a TypeError.\n",
    "print(2 + 'is less than' +  ' three''.') "
   ]
  },
  {
   "cell_type": "code",
   "execution_count": null,
   "id": "optional-commercial",
   "metadata": {
    "scrolled": false
   },
   "outputs": [],
   "source": [
    "# This code will NOT give a TypeError. It will create an extra spaec after 3.\n",
    "print(2, 'is less than',  3, '.') "
   ]
  },
  {
   "cell_type": "markdown",
   "id": "detected-discrimination",
   "metadata": {},
   "source": [
    "## Use <code>end=''</code> to Print on the Same Line"
   ]
  },
  {
   "cell_type": "code",
   "execution_count": null,
   "id": "entitled-ridge",
   "metadata": {},
   "outputs": [],
   "source": [
    "print('Hello World!', end='')\n",
    "print('This is Python')"
   ]
  },
  {
   "cell_type": "code",
   "execution_count": null,
   "id": "senior-burke",
   "metadata": {},
   "outputs": [],
   "source": [
    "print('Hello World!', end=' ')\n",
    "print('This is Python')"
   ]
  },
  {
   "cell_type": "code",
   "execution_count": null,
   "id": "forced-budget",
   "metadata": {},
   "outputs": [],
   "source": [
    "print('Hello World!', end='')\n",
    "print('\\tThis is Python')"
   ]
  },
  {
   "cell_type": "code",
   "execution_count": null,
   "id": "grand-merchant",
   "metadata": {},
   "outputs": [],
   "source": [
    "x = input('What is your name:')"
   ]
  },
  {
   "cell_type": "markdown",
   "id": "respected-world",
   "metadata": {},
   "source": [
    "## Print with <code>.format()</code> Method"
   ]
  },
  {
   "cell_type": "code",
   "execution_count": null,
   "id": "structural-rebel",
   "metadata": {},
   "outputs": [],
   "source": [
    "x = 2\n",
    "y = 3"
   ]
  },
  {
   "cell_type": "code",
   "execution_count": null,
   "id": "coordinate-belly",
   "metadata": {},
   "outputs": [],
   "source": [
    "print('{} is less than {}.'.format(x, y)) # This is the format strings method."
   ]
  },
  {
   "cell_type": "markdown",
   "id": "spare-journal",
   "metadata": {},
   "source": [
    "## Print with <code>f strings</code> Method"
   ]
  },
  {
   "cell_type": "code",
   "execution_count": null,
   "id": "brilliant-pregnancy",
   "metadata": {},
   "outputs": [],
   "source": [
    "print(f'{x} is less than {y}.') # This is the f strings method."
   ]
  },
  {
   "cell_type": "markdown",
   "id": "transsexual-moses",
   "metadata": {},
   "source": [
    "## Breaking a Line of Code (Place a back slash at the end of the line)"
   ]
  },
  {
   "cell_type": "code",
   "execution_count": null,
   "id": "elementary-syracuse",
   "metadata": {},
   "outputs": [],
   "source": [
    "print('This is an interesting class. We are learning a lot and \n",
    "we are learning intensely.')"
   ]
  },
  {
   "cell_type": "code",
   "execution_count": null,
   "id": "incorrect-discretion",
   "metadata": {},
   "outputs": [],
   "source": [
    "print('This is an interesting class. We are learning a lot and \\\n",
    "we are learning intensely.')"
   ]
  },
  {
   "cell_type": "markdown",
   "id": "significant-village",
   "metadata": {},
   "source": [
    "## Use the Length Function <code>len()</code> to Get the Length of a String"
   ]
  },
  {
   "cell_type": "code",
   "execution_count": null,
   "id": "specific-passenger",
   "metadata": {},
   "outputs": [],
   "source": [
    "len('Hello World!')"
   ]
  },
  {
   "cell_type": "markdown",
   "id": "structured-thought",
   "metadata": {},
   "source": [
    "## String indexing "
   ]
  },
  {
   "cell_type": "code",
   "execution_count": null,
   "id": "checked-intervention",
   "metadata": {},
   "outputs": [],
   "source": [
    "my_string = 'Hello World'"
   ]
  },
  {
   "cell_type": "code",
   "execution_count": null,
   "id": "formed-outdoors",
   "metadata": {},
   "outputs": [],
   "source": [
    "my_string[0]"
   ]
  },
  {
   "cell_type": "code",
   "execution_count": null,
   "id": "earlier-facial",
   "metadata": {},
   "outputs": [],
   "source": [
    "my_string[-1]"
   ]
  },
  {
   "cell_type": "code",
   "execution_count": null,
   "id": "detailed-interest",
   "metadata": {},
   "outputs": [],
   "source": [
    "my_string[-2]"
   ]
  },
  {
   "cell_type": "code",
   "execution_count": null,
   "id": "lyric-fashion",
   "metadata": {},
   "outputs": [],
   "source": [
    "my_string[-11]"
   ]
  },
  {
   "cell_type": "markdown",
   "id": "hybrid-carpet",
   "metadata": {},
   "source": [
    "## Three Ways to Print the Entire String with Indexing"
   ]
  },
  {
   "cell_type": "code",
   "execution_count": null,
   "id": "accurate-mixture",
   "metadata": {},
   "outputs": [],
   "source": [
    "my_string = 'Hello World'"
   ]
  },
  {
   "cell_type": "code",
   "execution_count": null,
   "id": "elementary-intent",
   "metadata": {},
   "outputs": [],
   "source": [
    "my_string[0:]"
   ]
  },
  {
   "cell_type": "code",
   "execution_count": null,
   "id": "desirable-digest",
   "metadata": {},
   "outputs": [],
   "source": [
    "my_string[:]"
   ]
  },
  {
   "cell_type": "code",
   "execution_count": null,
   "id": "thrown-semester",
   "metadata": {},
   "outputs": [],
   "source": [
    "my_string[::]"
   ]
  },
  {
   "cell_type": "markdown",
   "id": "framed-upset",
   "metadata": {},
   "source": [
    "## More on Indexing"
   ]
  },
  {
   "cell_type": "code",
   "execution_count": null,
   "id": "unavailable-adolescent",
   "metadata": {},
   "outputs": [],
   "source": [
    "my_string = 'Hello World'"
   ]
  },
  {
   "cell_type": "code",
   "execution_count": null,
   "id": "irish-steal",
   "metadata": {},
   "outputs": [],
   "source": [
    "my_string[1:7]"
   ]
  },
  {
   "cell_type": "code",
   "execution_count": null,
   "id": "located-dialogue",
   "metadata": {},
   "outputs": [],
   "source": [
    "my_string[:-1]"
   ]
  },
  {
   "cell_type": "code",
   "execution_count": null,
   "id": "acute-canyon",
   "metadata": {},
   "outputs": [],
   "source": [
    "my_string[::1]"
   ]
  },
  {
   "cell_type": "code",
   "execution_count": null,
   "id": "bored-shooting",
   "metadata": {},
   "outputs": [],
   "source": [
    "my_string[::2]"
   ]
  },
  {
   "cell_type": "code",
   "execution_count": null,
   "id": "super-madagascar",
   "metadata": {},
   "outputs": [],
   "source": [
    "my_string[2:7:3]"
   ]
  },
  {
   "cell_type": "markdown",
   "id": "terminal-turner",
   "metadata": {},
   "source": [
    "## Printing String Backward"
   ]
  },
  {
   "cell_type": "code",
   "execution_count": null,
   "id": "refined-travel",
   "metadata": {},
   "outputs": [],
   "source": [
    "my_string = 'Hello World'"
   ]
  },
  {
   "cell_type": "code",
   "execution_count": null,
   "id": "existing-parker",
   "metadata": {},
   "outputs": [],
   "source": [
    "my_string[-1::-1]"
   ]
  },
  {
   "cell_type": "markdown",
   "id": "cultural-majority",
   "metadata": {},
   "source": [
    "## Strings are immutable. We cannot change, add or delete any character."
   ]
  },
  {
   "cell_type": "code",
   "execution_count": null,
   "id": "mighty-mobile",
   "metadata": {},
   "outputs": [],
   "source": [
    "my_string[0] = 'x'"
   ]
  },
  {
   "cell_type": "markdown",
   "id": "cathedral-diagram",
   "metadata": {},
   "source": [
    "## <code>in</code> and <code>not in</code>"
   ]
  },
  {
   "cell_type": "code",
   "execution_count": null,
   "id": "confused-elder",
   "metadata": {},
   "outputs": [],
   "source": [
    "car = 'Toyota'"
   ]
  },
  {
   "cell_type": "code",
   "execution_count": null,
   "id": "ready-hardwood",
   "metadata": {},
   "outputs": [],
   "source": [
    "'T' in car"
   ]
  },
  {
   "cell_type": "code",
   "execution_count": null,
   "id": "inner-mechanism",
   "metadata": {},
   "outputs": [],
   "source": [
    "'W' in car"
   ]
  },
  {
   "cell_type": "code",
   "execution_count": null,
   "id": "forward-craft",
   "metadata": {},
   "outputs": [],
   "source": [
    "for char in car:\n",
    "    print(char)"
   ]
  },
  {
   "cell_type": "code",
   "execution_count": null,
   "id": "prostate-excellence",
   "metadata": {},
   "outputs": [],
   "source": [
    "'S' not in car"
   ]
  },
  {
   "cell_type": "code",
   "execution_count": null,
   "id": "automated-squad",
   "metadata": {},
   "outputs": [],
   "source": [
    "'a' not in car"
   ]
  },
  {
   "cell_type": "markdown",
   "id": "executed-moore",
   "metadata": {},
   "source": [
    "## <code>.replace()</code>"
   ]
  },
  {
   "cell_type": "code",
   "execution_count": null,
   "id": "juvenile-madness",
   "metadata": {},
   "outputs": [],
   "source": [
    "sentence = 'This is Java.'"
   ]
  },
  {
   "cell_type": "code",
   "execution_count": null,
   "id": "virgin-lightning",
   "metadata": {},
   "outputs": [],
   "source": [
    "sentence.replace('Java','Python')"
   ]
  },
  {
   "cell_type": "markdown",
   "id": "unauthorized-toyota",
   "metadata": {},
   "source": [
    "## <code>.upper()</code>"
   ]
  },
  {
   "cell_type": "code",
   "execution_count": null,
   "id": "collective-america",
   "metadata": {},
   "outputs": [],
   "source": [
    "print(my_string.upper())"
   ]
  },
  {
   "cell_type": "code",
   "execution_count": null,
   "id": "further-junior",
   "metadata": {},
   "outputs": [],
   "source": [
    "print(my_string.capitalize())"
   ]
  },
  {
   "cell_type": "markdown",
   "id": "honey-panel",
   "metadata": {},
   "source": [
    "## <code>.lower()</code>"
   ]
  },
  {
   "cell_type": "code",
   "execution_count": null,
   "id": "dried-respondent",
   "metadata": {},
   "outputs": [],
   "source": [
    "my_string = 'HELLO WORLD'\n",
    "print(my_string.lower())"
   ]
  },
  {
   "cell_type": "markdown",
   "id": "senior-classics",
   "metadata": {},
   "source": [
    "## <code>.title()</code>"
   ]
  },
  {
   "cell_type": "code",
   "execution_count": null,
   "id": "metric-drama",
   "metadata": {},
   "outputs": [],
   "source": [
    "print('this is an interesting lesson'.title())"
   ]
  },
  {
   "cell_type": "markdown",
   "id": "entertaining-biography",
   "metadata": {},
   "source": [
    "## <code>.split()</code> creates a list from a string."
   ]
  },
  {
   "cell_type": "code",
   "execution_count": null,
   "id": "clinical-arabic",
   "metadata": {},
   "outputs": [],
   "source": [
    "# The default separator is a space.\n",
    "print('this is an interesting lesson'.split()) "
   ]
  },
  {
   "cell_type": "code",
   "execution_count": null,
   "id": "relative-sodium",
   "metadata": {},
   "outputs": [],
   "source": [
    "# The default separator is a space.\n",
    "my_string = 'This is my text. It has thirteen words. It also has three sentences.'\n",
    "my_string.split()"
   ]
  },
  {
   "cell_type": "code",
   "execution_count": null,
   "id": "transparent-taylor",
   "metadata": {},
   "outputs": [],
   "source": [
    "# Here the separator is a period.\n",
    "my_string = 'This is my text. It has thirteen words. It also has three sentences.'\n",
    "my_string.split('.')"
   ]
  },
  {
   "cell_type": "code",
   "execution_count": null,
   "id": "alpine-guitar",
   "metadata": {},
   "outputs": [],
   "source": [
    "# Here, the separator is a period and space.\n",
    "my_string = 'This is my text. It has thirteen words. It also has three sentences.'\n",
    "my_string.split('. ')"
   ]
  },
  {
   "cell_type": "markdown",
   "id": "systematic-twenty",
   "metadata": {},
   "source": [
    "## <code>.join()</code> creates a string from a list (or another iterable)."
   ]
  },
  {
   "cell_type": "code",
   "execution_count": null,
   "id": "stock-stretch",
   "metadata": {},
   "outputs": [],
   "source": [
    "list1 = ['1','2','3','4'] \n",
    "\n",
    "# joins elements of list1 by '-'\n",
    "# and stores in sting s\n",
    "s = ' '.join(list1)\n",
    "  \n",
    "# join use to join a list of\n",
    "# strings to a separator s\n",
    "print(s)"
   ]
  },
  {
   "cell_type": "code",
   "execution_count": null,
   "id": "executive-blame",
   "metadata": {},
   "outputs": [],
   "source": [
    "list1 = ['1','2','3','4'] \n",
    "\n",
    "# joins elements of list1 by '-'\n",
    "# and stores in sting s\n",
    "s = '-'.join(list1)\n",
    "  \n",
    "# join use to join a list of\n",
    "# strings to a separator s\n",
    "print(s)"
   ]
  },
  {
   "cell_type": "code",
   "execution_count": null,
   "id": "aging-batman",
   "metadata": {},
   "outputs": [],
   "source": [
    "# The separator does not appear after the last item in the iterable.\n",
    "my_string = 'This is my test string.'\n",
    "print('-'.join(my_string))"
   ]
  },
  {
   "cell_type": "code",
   "execution_count": null,
   "id": "efficient-ancient",
   "metadata": {},
   "outputs": [],
   "source": [
    "# The separator does not appear after the last item in the iterable.\n",
    "my_string = 'This is my test string.'\n",
    "print(''.join(my_string))"
   ]
  }
 ],
 "metadata": {
  "kernelspec": {
   "display_name": "Python 3",
   "language": "python",
   "name": "python3"
  },
  "language_info": {
   "codemirror_mode": {
    "name": "ipython",
    "version": 3
   },
   "file_extension": ".py",
   "mimetype": "text/x-python",
   "name": "python",
   "nbconvert_exporter": "python",
   "pygments_lexer": "ipython3",
   "version": "3.9.2"
  }
 },
 "nbformat": 4,
 "nbformat_minor": 5
}
