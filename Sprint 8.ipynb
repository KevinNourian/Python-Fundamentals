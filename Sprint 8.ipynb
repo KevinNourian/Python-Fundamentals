{
 "cells": [
  {
   "cell_type": "markdown",
   "id": "saving-guidance",
   "metadata": {},
   "source": [
    "# <center> Sprint 8</center>\n",
    "## <center> Files </center>"
   ]
  },
  {
   "cell_type": "markdown",
   "id": "material-stress",
   "metadata": {},
   "source": [
    "### Reading from a File"
   ]
  },
  {
   "cell_type": "markdown",
   "id": "wooden-footage",
   "metadata": {},
   "source": [
    "#### The <code>read()</code> method converts the contents of a file into a continous string."
   ]
  },
  {
   "cell_type": "code",
   "execution_count": null,
   "id": "surgical-border",
   "metadata": {
    "scrolled": true
   },
   "outputs": [],
   "source": [
    "# The default mode of the with open function is read ('r').\n",
    "\n",
    "with open('numbers.txt', 'r') as file_object:\n",
    "        contents = file_object.read()\n",
    "\n",
    "print(contents)"
   ]
  },
  {
   "cell_type": "code",
   "execution_count": null,
   "id": "silver-tucson",
   "metadata": {},
   "outputs": [],
   "source": [
    "with open('numbers.txt', 'r') as file_object:\n",
    "        contents = file_object.read()\n",
    "\n",
    "contents"
   ]
  },
  {
   "cell_type": "code",
   "execution_count": null,
   "id": "fundamental-damages",
   "metadata": {},
   "outputs": [],
   "source": [
    "with open('Learning_Python.txt', 'r') as file_object:\n",
    "        contents = file_object.read()\n",
    "\n",
    "print(contents)"
   ]
  },
  {
   "cell_type": "code",
   "execution_count": null,
   "id": "involved-straight",
   "metadata": {},
   "outputs": [],
   "source": [
    "with open('Learning_Python.txt', 'r') as file_object:\n",
    "        contents = file_object.read()\n",
    "\n",
    "contents"
   ]
  },
  {
   "cell_type": "markdown",
   "id": "sharp-metadata",
   "metadata": {},
   "source": [
    "#### The <code>readlines()</code> method convets each line of the file into an element of a list."
   ]
  },
  {
   "cell_type": "code",
   "execution_count": null,
   "id": "beneficial-ghost",
   "metadata": {},
   "outputs": [],
   "source": [
    "# Reads each line of file and puts it in the list called \"lines.\"  \n",
    "\n",
    "with open('numbers.txt', 'r') as file_object:\n",
    "    lines = file_object.readlines()\n",
    "\n",
    "print(lines)"
   ]
  },
  {
   "cell_type": "code",
   "execution_count": 4,
   "id": "latter-example",
   "metadata": {},
   "outputs": [
    {
     "name": "stdout",
     "output_type": "stream",
     "text": [
      "1. In Python, you can create lists.\n",
      "\n"
     ]
    }
   ],
   "source": [
    "with open('Learning_Python.txt', 'r') as file_object:\n",
    "        lines = file_object.readlines()\n",
    "\n",
    "print(lines)"
   ]
  },
  {
   "cell_type": "code",
   "execution_count": null,
   "id": "exclusive-teacher",
   "metadata": {},
   "outputs": [],
   "source": [
    "# The for loop, loops on each element of the list which is a line in the text file.\n",
    "with open('Learning_Python.txt', 'r') as file_object:\n",
    "        lines = file_object.readlines()\n",
    "\n",
    "for line in lines:\n",
    "    print(line)"
   ]
  },
  {
   "cell_type": "markdown",
   "id": "instrumental-hawaii",
   "metadata": {},
   "source": [
    "#### The <code>readline()</code> method reads one line of the file until it reaches the end of that line."
   ]
  },
  {
   "cell_type": "code",
   "execution_count": 7,
   "id": "eligible-mobility",
   "metadata": {},
   "outputs": [
    {
     "name": "stdout",
     "output_type": "stream",
     "text": [
      "1 \n",
      "\n"
     ]
    }
   ],
   "source": [
    "with open('numbers.txt', 'r') as file_object:\n",
    "    line = file_object.readline()\n",
    "\n",
    "print(line)"
   ]
  },
  {
   "cell_type": "code",
   "execution_count": 9,
   "id": "affected-rover",
   "metadata": {},
   "outputs": [
    {
     "name": "stdout",
     "output_type": "stream",
     "text": [
      "1. In Python, you can create lists.\n",
      "\n"
     ]
    }
   ],
   "source": [
    "with open('Learning_Python.txt', 'r') as file_object:\n",
    "        line = file_object.readline()\n",
    "\n",
    "print(line)"
   ]
  },
  {
   "cell_type": "markdown",
   "id": "reserved-float",
   "metadata": {},
   "source": [
    "### Writing to a File"
   ]
  },
  {
   "cell_type": "markdown",
   "id": "incomplete-attraction",
   "metadata": {},
   "source": [
    "#### If the file does not exist, the <code>write()</code>method creates it. If the file does exist, the write() function will erase the file and write over it."
   ]
  },
  {
   "cell_type": "code",
   "execution_count": 2,
   "id": "rational-operator",
   "metadata": {},
   "outputs": [],
   "source": [
    "with open ('messages.txt', 'w') as file_object:\n",
    "    file_object.write('I love programming.')"
   ]
  },
  {
   "cell_type": "markdown",
   "id": "white-current",
   "metadata": {},
   "source": [
    "### Appending to a File"
   ]
  },
  {
   "cell_type": "markdown",
   "id": "remarkable-screw",
   "metadata": {},
   "source": [
    "#### The <code>append()</code>method keeps the text that is already in the file and adds a line after the last line of file."
   ]
  },
  {
   "cell_type": "code",
   "execution_count": null,
   "id": "maritime-inventory",
   "metadata": {},
   "outputs": [],
   "source": [
    "with open ('messages.txt', 'a') as file_object:\n",
    "    file_object.write('\\nI love ice cream.')"
   ]
  },
  {
   "cell_type": "code",
   "execution_count": null,
   "id": "sophisticated-potential",
   "metadata": {},
   "outputs": [],
   "source": [
    "with open ('messages.txt', 'a') as file_object:\n",
    "    file_object.write('\\nI love swimming.')"
   ]
  },
  {
   "cell_type": "markdown",
   "id": "competent-appreciation",
   "metadata": {},
   "source": [
    "### Read + Write (<code>r+</code>)"
   ]
  },
  {
   "cell_type": "code",
   "execution_count": 17,
   "id": "essential-witness",
   "metadata": {},
   "outputs": [
    {
     "name": "stdout",
     "output_type": "stream",
     "text": [
      "['I love programming.\\n', 'I love programming.\\n', 'I love programming.\\n']\n"
     ]
    }
   ],
   "source": [
    "with open ('messages.txt', 'r+') as file_object:\n",
    "    file_object.write('I love programming.\\n')\n",
    "    lines = file_object.readlines()\n",
    "\n",
    "print(lines)"
   ]
  },
  {
   "cell_type": "markdown",
   "id": "casual-commons",
   "metadata": {},
   "source": [
    "### File Paths"
   ]
  },
  {
   "cell_type": "markdown",
   "id": "cutting-puppy",
   "metadata": {},
   "source": [
    "#### Direct: The text file is in the same folder as your code file. Python will look in this folder by default."
   ]
  },
  {
   "cell_type": "code",
   "execution_count": null,
   "id": "liable-amplifier",
   "metadata": {},
   "outputs": [],
   "source": [
    "with open('numbers.txt', 'r') as file_object:\n",
    "    lines = file_object.readlines()\n",
    "\n",
    "    print(lines)"
   ]
  },
  {
   "cell_type": "markdown",
   "id": "spanish-malaysia",
   "metadata": {},
   "source": [
    "#### Absolute: The text file is NOT in the same folder as your code file. Python needs the path to its location."
   ]
  },
  {
   "cell_type": "code",
   "execution_count": null,
   "id": "particular-audio",
   "metadata": {},
   "outputs": [],
   "source": [
    "path = 'C:/Users/Kevin Nourian/Documents/AI/Tribe of AI/11MK5/Sprint 8/Jupyter Notebook/numbers.txt'\n",
    "\n",
    "with open(path, 'r') as file_object:\n",
    "    lines = file_object.readlines()\n",
    "\n",
    "print(lines)"
   ]
  },
  {
   "cell_type": "markdown",
   "id": "progressive-society",
   "metadata": {},
   "source": [
    "### <code>pathlib</code> library has tools to allow you to create paths that would work with any operating system."
   ]
  },
  {
   "cell_type": "code",
   "execution_count": 3,
   "id": "transsexual-governor",
   "metadata": {},
   "outputs": [],
   "source": [
    "import pathlib\n"
   ]
  }
 ],
 "metadata": {
  "kernelspec": {
   "display_name": "Python 3",
   "language": "python",
   "name": "python3"
  },
  "language_info": {
   "codemirror_mode": {
    "name": "ipython",
    "version": 3
   },
   "file_extension": ".py",
   "mimetype": "text/x-python",
   "name": "python",
   "nbconvert_exporter": "python",
   "pygments_lexer": "ipython3",
   "version": "3.9.2"
  }
 },
 "nbformat": 4,
 "nbformat_minor": 5
}
