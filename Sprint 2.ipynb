{
 "cells": [
  {
   "cell_type": "markdown",
   "id": "saving-guidance",
   "metadata": {},
   "source": [
    "# <center> Sprint 2 </center>"
   ]
  },
  {
   "cell_type": "markdown",
   "id": "practical-broadcast",
   "metadata": {},
   "source": [
    "<b>Topics</b> <br>\n",
    "1. Assignment and logical comparison<br>\n",
    "2. What is None?<br>\n",
    "3. print()<br>\n",
    "4. Data types<br>\n",
    "5. if elif<br>\n",
    "6. try except<br>\n",
    "7. try except else<br>"
   ]
  },
  {
   "cell_type": "markdown",
   "id": "precise-virginia",
   "metadata": {},
   "source": [
    "## Assignment and Logical Comparison"
   ]
  },
  {
   "cell_type": "code",
   "execution_count": null,
   "id": "national-maximum",
   "metadata": {},
   "outputs": [],
   "source": [
    "x = 5"
   ]
  },
  {
   "cell_type": "code",
   "execution_count": null,
   "id": "considerable-moore",
   "metadata": {},
   "outputs": [],
   "source": [
    "x == 5"
   ]
  },
  {
   "cell_type": "code",
   "execution_count": null,
   "id": "false-boards",
   "metadata": {},
   "outputs": [],
   "source": [
    "x == 3"
   ]
  },
  {
   "cell_type": "code",
   "execution_count": null,
   "id": "protective-polyester",
   "metadata": {},
   "outputs": [],
   "source": [
    "x != 5"
   ]
  },
  {
   "cell_type": "markdown",
   "id": "velvet-hardware",
   "metadata": {},
   "source": [
    "## What is None?"
   ]
  },
  {
   "cell_type": "code",
   "execution_count": null,
   "id": "engaged-tender",
   "metadata": {},
   "outputs": [],
   "source": [
    "x = 0"
   ]
  },
  {
   "cell_type": "code",
   "execution_count": null,
   "id": "decimal-blank",
   "metadata": {},
   "outputs": [],
   "source": [
    "y = None"
   ]
  },
  {
   "cell_type": "code",
   "execution_count": null,
   "id": "finished-moral",
   "metadata": {},
   "outputs": [],
   "source": [
    "x == None"
   ]
  },
  {
   "cell_type": "code",
   "execution_count": null,
   "id": "julian-universal",
   "metadata": {},
   "outputs": [],
   "source": [
    "y == None"
   ]
  },
  {
   "cell_type": "code",
   "execution_count": null,
   "id": "color-sandwich",
   "metadata": {},
   "outputs": [],
   "source": [
    "x = ''"
   ]
  },
  {
   "cell_type": "code",
   "execution_count": null,
   "id": "rational-medicaid",
   "metadata": {},
   "outputs": [],
   "source": [
    "y = None"
   ]
  },
  {
   "cell_type": "code",
   "execution_count": null,
   "id": "critical-ottawa",
   "metadata": {},
   "outputs": [],
   "source": [
    "x == None"
   ]
  },
  {
   "cell_type": "code",
   "execution_count": null,
   "id": "documentary-singles",
   "metadata": {},
   "outputs": [],
   "source": [
    "y == None"
   ]
  },
  {
   "cell_type": "code",
   "execution_count": null,
   "id": "static-sheffield",
   "metadata": {},
   "outputs": [],
   "source": [
    "z = False"
   ]
  },
  {
   "cell_type": "code",
   "execution_count": null,
   "id": "engaged-paradise",
   "metadata": {},
   "outputs": [],
   "source": [
    "z == None"
   ]
  },
  {
   "cell_type": "markdown",
   "id": "universal-connection",
   "metadata": {},
   "source": [
    "## print()"
   ]
  },
  {
   "cell_type": "code",
   "execution_count": null,
   "id": "legal-spokesman",
   "metadata": {},
   "outputs": [],
   "source": [
    "print('Hello ' + 'How are you?')"
   ]
  },
  {
   "cell_type": "code",
   "execution_count": null,
   "id": "immune-semester",
   "metadata": {},
   "outputs": [],
   "source": [
    "print('Hello ' + 2)"
   ]
  },
  {
   "cell_type": "code",
   "execution_count": null,
   "id": "coated-louis",
   "metadata": {},
   "outputs": [],
   "source": [
    "print('Hello ' + '2')"
   ]
  },
  {
   "cell_type": "code",
   "execution_count": null,
   "id": "twenty-commissioner",
   "metadata": {},
   "outputs": [],
   "source": [
    "print('Hello ', 2)"
   ]
  },
  {
   "cell_type": "code",
   "execution_count": null,
   "id": "approved-location",
   "metadata": {},
   "outputs": [],
   "source": [
    "print('Hello' * 2)"
   ]
  },
  {
   "cell_type": "markdown",
   "id": "democratic-ability",
   "metadata": {},
   "source": [
    "## Data Types"
   ]
  },
  {
   "cell_type": "code",
   "execution_count": null,
   "id": "placed-madagascar",
   "metadata": {},
   "outputs": [],
   "source": [
    "my_number = 123"
   ]
  },
  {
   "cell_type": "code",
   "execution_count": null,
   "id": "certified-drunk",
   "metadata": {},
   "outputs": [],
   "source": [
    "my_string = str(my_number)"
   ]
  },
  {
   "cell_type": "code",
   "execution_count": null,
   "id": "otherwise-title",
   "metadata": {},
   "outputs": [],
   "source": [
    "my_string"
   ]
  },
  {
   "cell_type": "code",
   "execution_count": null,
   "id": "consolidated-peter",
   "metadata": {},
   "outputs": [],
   "source": [
    "my_addition = my_number + 2"
   ]
  },
  {
   "cell_type": "code",
   "execution_count": null,
   "id": "higher-poland",
   "metadata": {},
   "outputs": [],
   "source": [
    "my_addition"
   ]
  },
  {
   "cell_type": "code",
   "execution_count": null,
   "id": "committed-cruise",
   "metadata": {},
   "outputs": [],
   "source": [
    "my_addition = my_string + 2"
   ]
  },
  {
   "cell_type": "markdown",
   "id": "honey-caribbean",
   "metadata": {},
   "source": [
    "## if and elif"
   ]
  },
  {
   "cell_type": "code",
   "execution_count": null,
   "id": "jewish-magnitude",
   "metadata": {},
   "outputs": [],
   "source": [
    "x = 2"
   ]
  },
  {
   "cell_type": "code",
   "execution_count": null,
   "id": "opening-brunei",
   "metadata": {},
   "outputs": [],
   "source": [
    "if x < 5:\n",
    "    print('Less than 5.')\n",
    "if x < 6:\n",
    "    print('Less than 6.')"
   ]
  },
  {
   "cell_type": "code",
   "execution_count": null,
   "id": "compatible-jesus",
   "metadata": {},
   "outputs": [],
   "source": [
    "if x > 5:\n",
    "    print('Less than 5.')\n",
    "elif x == 2:\n",
    "    print('x = 2.')\n",
    "else:\n",
    "    print('None of these.')"
   ]
  },
  {
   "cell_type": "markdown",
   "id": "complex-indian",
   "metadata": {},
   "source": [
    "## try except"
   ]
  },
  {
   "cell_type": "code",
   "execution_count": null,
   "id": "green-turning",
   "metadata": {},
   "outputs": [],
   "source": [
    "# Asks user for two numbers.\n",
    "num1 = input ('First number: ')\n",
    "num2 = input ('Second number: ')\n",
    "\n",
    "# Runs the code to add the integers.\n",
    "try:\n",
    "    num1 = int(num1)\n",
    "    num2 = int(num2)\n",
    "    num = num1 + num2\n",
    "    print (num)\n",
    "\n",
    "# If non-integer is inputed, prints the message. Program stops.\n",
    "except:\n",
    "    print ('Only numbers are accepted.')"
   ]
  },
  {
   "cell_type": "markdown",
   "id": "lonely-cassette",
   "metadata": {},
   "source": [
    "## try except else"
   ]
  },
  {
   "cell_type": "code",
   "execution_count": null,
   "id": "handed-intent",
   "metadata": {},
   "outputs": [],
   "source": [
    "# Asks user for two numbers.\n",
    "num1 = input ('First number: ')\n",
    "num2 = input ('Second number: ')\n",
    "\n",
    "# Identifies numbers as integers.\n",
    "try:\n",
    "    int(num1) and int(num2)\n",
    "\n",
    "# If non-integer is inputed, prints the message. Program stops.\n",
    "except:\n",
    "    print ('Only numbers are accepted.')\n",
    "\n",
    "# Executes after try succeeds.\n",
    "else:\n",
    "    num1 = int(num1)\n",
    "    num2 = int(num2)\n",
    "    num = num1 + num2\n",
    "    print (num)"
   ]
  }
 ],
 "metadata": {
  "kernelspec": {
   "display_name": "Python 3",
   "language": "python",
   "name": "python3"
  },
  "language_info": {
   "codemirror_mode": {
    "name": "ipython",
    "version": 3
   },
   "file_extension": ".py",
   "mimetype": "text/x-python",
   "name": "python",
   "nbconvert_exporter": "python",
   "pygments_lexer": "ipython3",
   "version": "3.9.2"
  }
 },
 "nbformat": 4,
 "nbformat_minor": 5
}
